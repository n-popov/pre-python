{
 "cells": [
  {
   "cell_type": "code",
   "execution_count": 1,
   "id": "a799c1da",
   "metadata": {},
   "outputs": [
    {
     "name": "stdout",
     "output_type": "stream",
     "text": [
      "12345\n",
      "15\n"
     ]
    }
   ],
   "source": [
    "number = int(input())\n",
    "sum_digits = 0\n",
    "while number != 0:\n",
    "    sum_digits += number % 10\n",
    "    number //= 10\n",
    "print(sum_digits)"
   ]
  },
  {
   "cell_type": "markdown",
   "id": "c122d349",
   "metadata": {},
   "source": [
    "Здесь делаем ошибку: используем зарезервированное слово sum как переменную"
   ]
  },
  {
   "cell_type": "code",
   "execution_count": 14,
   "id": "0ad6ebd8",
   "metadata": {},
   "outputs": [
    {
     "name": "stdout",
     "output_type": "stream",
     "text": [
      "12345\n",
      "15\n"
     ]
    }
   ],
   "source": [
    "number_as_str = input()\n",
    "sum = 0\n",
    "for digit_as_str in number_as_str:\n",
    "    sum += int(digit_as_str)\n",
    "print(sum)"
   ]
  },
  {
   "cell_type": "code",
   "execution_count": 16,
   "id": "39920476",
   "metadata": {},
   "outputs": [
    {
     "name": "stdout",
     "output_type": "stream",
     "text": [
      "[1.0, 2.718281828459045, 7.38905609893065, 20.085536923187668, 54.598150033144236, 148.4131591025766, 403.4287934927351, 1096.6331584284585, 2980.9579870417283, 8103.083927575384]\n"
     ]
    }
   ],
   "source": [
    "from math import exp\n",
    "exps = []\n",
    "for number in range(10):\n",
    "    exps.append(exp(number))\n",
    "print(exps)"
   ]
  },
  {
   "cell_type": "markdown",
   "id": "5efad4d4",
   "metadata": {},
   "source": [
    "List comprehension"
   ]
  },
  {
   "cell_type": "code",
   "execution_count": 18,
   "id": "c7893965",
   "metadata": {},
   "outputs": [],
   "source": [
    "from math import cos"
   ]
  },
  {
   "cell_type": "code",
   "execution_count": 19,
   "id": "72b7fcf0",
   "metadata": {},
   "outputs": [
    {
     "name": "stdout",
     "output_type": "stream",
     "text": [
      "[1.0, 0.5403023058681398, -0.4161468365471424, -0.9899924966004454, -0.6536436208636119, 0.28366218546322625, 0.960170286650366, 0.7539022543433046, -0.14550003380861354, -0.9111302618846769]\n"
     ]
    }
   ],
   "source": [
    "cosines = [cos(number) for number in range(10)]\n",
    "print(cosines)"
   ]
  },
  {
   "cell_type": "markdown",
   "id": "28bf40e8",
   "metadata": {},
   "source": [
    "Переопределив sum выше, получаем ошибки\n"
   ]
  },
  {
   "cell_type": "code",
   "execution_count": 20,
   "id": "da3d7c35",
   "metadata": {},
   "outputs": [
    {
     "ename": "TypeError",
     "evalue": "'int' object is not callable",
     "output_type": "error",
     "traceback": [
      "\u001b[0;31m---------------------------------------------------------------------------\u001b[0m",
      "\u001b[0;31mTypeError\u001b[0m                                 Traceback (most recent call last)",
      "Input \u001b[0;32mIn [20]\u001b[0m, in \u001b[0;36m<cell line: 1>\u001b[0;34m()\u001b[0m\n\u001b[0;32m----> 1\u001b[0m \u001b[38;5;28;43msum\u001b[39;49m\u001b[43m(\u001b[49m\u001b[43m[\u001b[49m\u001b[38;5;241;43m4\u001b[39;49m\u001b[43m,\u001b[49m\u001b[43m \u001b[49m\u001b[38;5;241;43m5.5\u001b[39;49m\u001b[43m,\u001b[49m\u001b[43m \u001b[49m\u001b[38;5;124;43m'\u001b[39;49m\u001b[38;5;124;43m42\u001b[39;49m\u001b[38;5;124;43m'\u001b[39;49m\u001b[43m]\u001b[49m\u001b[43m)\u001b[49m\n",
      "\u001b[0;31mTypeError\u001b[0m: 'int' object is not callable"
     ]
    }
   ],
   "source": [
    "sum([4, 5.5, '42'])"
   ]
  },
  {
   "cell_type": "code",
   "execution_count": 21,
   "id": "3e37c054",
   "metadata": {},
   "outputs": [
    {
     "name": "stdout",
     "output_type": "stream",
     "text": [
      "12345\n"
     ]
    },
    {
     "ename": "TypeError",
     "evalue": "'int' object is not callable",
     "output_type": "error",
     "traceback": [
      "\u001b[0;31m---------------------------------------------------------------------------\u001b[0m",
      "\u001b[0;31mTypeError\u001b[0m                                 Traceback (most recent call last)",
      "Input \u001b[0;32mIn [21]\u001b[0m, in \u001b[0;36m<cell line: 1>\u001b[0;34m()\u001b[0m\n\u001b[0;32m----> 1\u001b[0m \u001b[38;5;28;43msum\u001b[39;49m\u001b[43m(\u001b[49m\u001b[43m[\u001b[49m\u001b[38;5;28;43mint\u001b[39;49m\u001b[43m(\u001b[49m\u001b[43mletter\u001b[49m\u001b[43m)\u001b[49m\u001b[43m \u001b[49m\u001b[38;5;28;43;01mfor\u001b[39;49;00m\u001b[43m \u001b[49m\u001b[43mletter\u001b[49m\u001b[43m \u001b[49m\u001b[38;5;129;43;01min\u001b[39;49;00m\u001b[43m \u001b[49m\u001b[38;5;28;43minput\u001b[39;49m\u001b[43m(\u001b[49m\u001b[43m)\u001b[49m\u001b[43m]\u001b[49m\u001b[43m)\u001b[49m\n",
      "\u001b[0;31mTypeError\u001b[0m: 'int' object is not callable"
     ]
    }
   ],
   "source": [
    "sum([int(letter) for letter in input()])"
   ]
  },
  {
   "cell_type": "code",
   "execution_count": 30,
   "id": "6370166d",
   "metadata": {},
   "outputs": [],
   "source": [
    "x = 4\n",
    "y = 5"
   ]
  },
  {
   "cell_type": "code",
   "execution_count": 31,
   "id": "23760a30",
   "metadata": {},
   "outputs": [
    {
     "name": "stdout",
     "output_type": "stream",
     "text": [
      "4 5\n"
     ]
    }
   ],
   "source": [
    "print(x, y)"
   ]
  },
  {
   "cell_type": "code",
   "execution_count": 32,
   "id": "58d1312a",
   "metadata": {},
   "outputs": [],
   "source": [
    "tmp = x\n",
    "x = y\n",
    "y = tmp"
   ]
  },
  {
   "cell_type": "code",
   "execution_count": 33,
   "id": "cd1c5abd",
   "metadata": {},
   "outputs": [
    {
     "name": "stdout",
     "output_type": "stream",
     "text": [
      "5 4\n"
     ]
    }
   ],
   "source": [
    "print(x, y)"
   ]
  },
  {
   "cell_type": "code",
   "execution_count": 34,
   "id": "d15994e7",
   "metadata": {},
   "outputs": [],
   "source": [
    "x = x + y\n",
    "y = x - y\n",
    "x = x - y"
   ]
  },
  {
   "cell_type": "code",
   "execution_count": 35,
   "id": "224cb227",
   "metadata": {},
   "outputs": [
    {
     "name": "stdout",
     "output_type": "stream",
     "text": [
      "4 5\n"
     ]
    }
   ],
   "source": [
    "print(x, y)"
   ]
  },
  {
   "cell_type": "markdown",
   "id": "e230fa03",
   "metadata": {},
   "source": [
    "101"
   ]
  },
  {
   "cell_type": "code",
   "execution_count": 36,
   "id": "5c3e1132",
   "metadata": {},
   "outputs": [],
   "source": [
    "x, y = y, x"
   ]
  },
  {
   "cell_type": "code",
   "execution_count": 37,
   "id": "8e0f7d9f",
   "metadata": {},
   "outputs": [
    {
     "name": "stdout",
     "output_type": "stream",
     "text": [
      "5 4\n"
     ]
    }
   ],
   "source": [
    "print(x, y)"
   ]
  },
  {
   "cell_type": "code",
   "execution_count": 38,
   "id": "20245b5b",
   "metadata": {},
   "outputs": [
    {
     "data": {
      "text/plain": [
       "(5, 22)"
      ]
     },
     "execution_count": 38,
     "metadata": {},
     "output_type": "execute_result"
    }
   ],
   "source": [
    "5,22\n"
   ]
  },
  {
   "cell_type": "code",
   "execution_count": 39,
   "id": "be98c3d7",
   "metadata": {},
   "outputs": [
    {
     "data": {
      "text/plain": [
       "tuple"
      ]
     },
     "execution_count": 39,
     "metadata": {},
     "output_type": "execute_result"
    }
   ],
   "source": [
    "type((5, 22))"
   ]
  },
  {
   "cell_type": "code",
   "execution_count": 40,
   "id": "f6d88127",
   "metadata": {},
   "outputs": [],
   "source": [
    "array = [1, 2, 3]"
   ]
  },
  {
   "cell_type": "code",
   "execution_count": 41,
   "id": "830d75b6",
   "metadata": {},
   "outputs": [],
   "source": [
    "array[1] = '42'"
   ]
  },
  {
   "cell_type": "code",
   "execution_count": 42,
   "id": "f9abd17a",
   "metadata": {},
   "outputs": [
    {
     "name": "stdout",
     "output_type": "stream",
     "text": [
      "[1, '42', 3]\n"
     ]
    }
   ],
   "source": [
    "print(array)"
   ]
  },
  {
   "cell_type": "code",
   "execution_count": 43,
   "id": "030f7ecb",
   "metadata": {},
   "outputs": [],
   "source": [
    "numbers = (1, 3, 5)"
   ]
  },
  {
   "cell_type": "code",
   "execution_count": 44,
   "id": "e4c555fe",
   "metadata": {},
   "outputs": [
    {
     "name": "stdout",
     "output_type": "stream",
     "text": [
      "(1, 3, 5)\n"
     ]
    }
   ],
   "source": [
    "print(numbers)\n"
   ]
  },
  {
   "cell_type": "code",
   "execution_count": 45,
   "id": "b050b00b",
   "metadata": {},
   "outputs": [
    {
     "name": "stdout",
     "output_type": "stream",
     "text": [
      "3\n"
     ]
    }
   ],
   "source": [
    "print(numbers[1])"
   ]
  },
  {
   "cell_type": "code",
   "execution_count": 46,
   "id": "b02ecbcc",
   "metadata": {},
   "outputs": [
    {
     "ename": "TypeError",
     "evalue": "'tuple' object does not support item assignment",
     "output_type": "error",
     "traceback": [
      "\u001b[0;31m---------------------------------------------------------------------------\u001b[0m",
      "\u001b[0;31mTypeError\u001b[0m                                 Traceback (most recent call last)",
      "Input \u001b[0;32mIn [46]\u001b[0m, in \u001b[0;36m<cell line: 1>\u001b[0;34m()\u001b[0m\n\u001b[0;32m----> 1\u001b[0m \u001b[43mnumbers\u001b[49m\u001b[43m[\u001b[49m\u001b[38;5;241;43m1\u001b[39;49m\u001b[43m]\u001b[49m \u001b[38;5;241m=\u001b[39m \u001b[38;5;124m'\u001b[39m\u001b[38;5;124m42\u001b[39m\u001b[38;5;124m'\u001b[39m\n",
      "\u001b[0;31mTypeError\u001b[0m: 'tuple' object does not support item assignment"
     ]
    }
   ],
   "source": [
    "numbers[1] = '42'"
   ]
  },
  {
   "cell_type": "code",
   "execution_count": 47,
   "id": "c5501571",
   "metadata": {},
   "outputs": [],
   "source": [
    "first_element, second_element, third_element = numbers"
   ]
  },
  {
   "cell_type": "code",
   "execution_count": 48,
   "id": "18e4bf47",
   "metadata": {},
   "outputs": [
    {
     "name": "stdout",
     "output_type": "stream",
     "text": [
      "5 3 1\n"
     ]
    }
   ],
   "source": [
    "print(third_element, second_element, first_element)"
   ]
  },
  {
   "cell_type": "code",
   "execution_count": 49,
   "id": "8f50d324",
   "metadata": {},
   "outputs": [],
   "source": [
    "some_of_numbers = (third_element, second_element)"
   ]
  },
  {
   "cell_type": "code",
   "execution_count": 50,
   "id": "b80b4603",
   "metadata": {},
   "outputs": [
    {
     "name": "stdout",
     "output_type": "stream",
     "text": [
      "(5, 3)\n"
     ]
    }
   ],
   "source": [
    "print(some_of_numbers)"
   ]
  },
  {
   "cell_type": "code",
   "execution_count": 53,
   "id": "56645fbb",
   "metadata": {},
   "outputs": [],
   "source": [
    "a = 42\n",
    "b = 43"
   ]
  },
  {
   "cell_type": "code",
   "execution_count": 54,
   "id": "3da57a9a",
   "metadata": {},
   "outputs": [
    {
     "name": "stdout",
     "output_type": "stream",
     "text": [
      "42 43\n"
     ]
    }
   ],
   "source": [
    "print(a, b)"
   ]
  },
  {
   "cell_type": "code",
   "execution_count": 56,
   "id": "669ffb8f",
   "metadata": {},
   "outputs": [],
   "source": [
    "initial_tuple = a, b"
   ]
  },
  {
   "cell_type": "code",
   "execution_count": 57,
   "id": "a1be0fc9",
   "metadata": {},
   "outputs": [
    {
     "name": "stdout",
     "output_type": "stream",
     "text": [
      "(42, 43)\n"
     ]
    }
   ],
   "source": [
    "print(initial_tuple)"
   ]
  },
  {
   "cell_type": "code",
   "execution_count": 58,
   "id": "56e4deab",
   "metadata": {},
   "outputs": [],
   "source": [
    "b, a = initial_tuple"
   ]
  },
  {
   "cell_type": "code",
   "execution_count": 59,
   "id": "b1254a6f",
   "metadata": {},
   "outputs": [
    {
     "name": "stdout",
     "output_type": "stream",
     "text": [
      "43 42\n"
     ]
    }
   ],
   "source": [
    "print(a, b)"
   ]
  },
  {
   "cell_type": "code",
   "execution_count": 60,
   "id": "4cbce70c",
   "metadata": {},
   "outputs": [],
   "source": [
    "b, a = a, b"
   ]
  },
  {
   "cell_type": "code",
   "execution_count": 61,
   "id": "86a088c1",
   "metadata": {},
   "outputs": [],
   "source": [
    "c = 0"
   ]
  },
  {
   "cell_type": "code",
   "execution_count": 62,
   "id": "4383eaca",
   "metadata": {},
   "outputs": [
    {
     "name": "stdout",
     "output_type": "stream",
     "text": [
      "42 43 0\n"
     ]
    }
   ],
   "source": [
    "print(a, b, c)"
   ]
  },
  {
   "cell_type": "code",
   "execution_count": 63,
   "id": "064da589",
   "metadata": {},
   "outputs": [],
   "source": [
    "a, b, c = b, c, a"
   ]
  },
  {
   "cell_type": "code",
   "execution_count": 64,
   "id": "601e1941",
   "metadata": {},
   "outputs": [
    {
     "name": "stdout",
     "output_type": "stream",
     "text": [
      "43 0 42\n"
     ]
    }
   ],
   "source": [
    "print(a, b, c)"
   ]
  },
  {
   "cell_type": "code",
   "execution_count": 65,
   "id": "5d9becd5",
   "metadata": {},
   "outputs": [
    {
     "name": "stdout",
     "output_type": "stream",
     "text": [
      "0 a\n",
      "1 b\n",
      "2 c\n"
     ]
    }
   ],
   "source": [
    "some_array = ['a', 'b', 'c']\n",
    "for letter_index, letter in enumerate(some_array):\n",
    "    print(letter_index, letter)"
   ]
  },
  {
   "cell_type": "code",
   "execution_count": 80,
   "id": "776e90d5",
   "metadata": {},
   "outputs": [],
   "source": [
    "from matplotlib import pyplot"
   ]
  },
  {
   "cell_type": "code",
   "execution_count": 96,
   "id": "0462afc7",
   "metadata": {},
   "outputs": [
    {
     "data": {
      "image/png": "[encoded data removed]",
      "text/plain": [
       "<Figure size 640x480 with 4 Axes>"
      ]
     },
     "metadata": {},
     "output_type": "display_data"
    }
   ],
   "source": [
    "figure, axes = pyplot.subplots(2, 2)"
   ]
  },
  {
   "cell_type": "code",
   "execution_count": 97,
   "id": "3a3b463e",
   "metadata": {},
   "outputs": [
    {
     "data": {
      "text/plain": [
       "[<matplotlib.lines.Line2D at 0x7f7948a1e7d0>]"
      ]
     },
     "execution_count": 97,
     "metadata": {},
     "output_type": "execute_result"
    }
   ],
   "source": [
    "axes[0, 1].plot([number ** 2 for number in range(5)])"
   ]
  },
  {
   "cell_type": "code",
   "execution_count": 98,
   "id": "dec81a23",
   "metadata": {},
   "outputs": [
    {
     "data": {
      "image/png": "[encoded data removed]",
      "text/plain": [
       "<Figure size 640x480 with 4 Axes>"
      ]
     },
     "execution_count": 98,
     "metadata": {},
     "output_type": "execute_result"
    }
   ],
   "source": [
    "figure"
   ]
  },
  {
   "cell_type": "code",
   "execution_count": 99,
   "id": "6cd8fa90",
   "metadata": {},
   "outputs": [],
   "source": [
    "xs = [item for item in range(5)]"
   ]
  },
  {
   "cell_type": "code",
   "execution_count": 100,
   "id": "84b6cda5",
   "metadata": {},
   "outputs": [
    {
     "name": "stdout",
     "output_type": "stream",
     "text": [
      "[1.0, 2.718281828459045, 7.38905609893065, 20.085536923187668, 54.598150033144236]\n"
     ]
    }
   ],
   "source": [
    "ys = [exp(item) for item in xs]\n",
    "print(ys)"
   ]
  },
  {
   "cell_type": "code",
   "execution_count": 101,
   "id": "b28e3c40",
   "metadata": {},
   "outputs": [
    {
     "data": {
      "text/plain": [
       "<matplotlib.collections.PathCollection at 0x7f7948988c70>"
      ]
     },
     "execution_count": 101,
     "metadata": {},
     "output_type": "execute_result"
    }
   ],
   "source": [
    "axes[1, 0].scatter(xs, ys, color='r', marker='^')"
   ]
  },
  {
   "cell_type": "code",
   "execution_count": 102,
   "id": "b1260b65",
   "metadata": {},
   "outputs": [
    {
     "data": {
      "image/png": "[encoded data removed]",
      "text/plain": [
       "<Figure size 640x480 with 4 Axes>"
      ]
     },
     "execution_count": 102,
     "metadata": {},
     "output_type": "execute_result"
    }
   ],
   "source": [
    "figure"
   ]
  },
  {
   "cell_type": "code",
   "execution_count": 13,
   "id": "2a52d46e",
   "metadata": {},
   "outputs": [],
   "source": [
    "def generate_xs(start, stop, step, exclude):\n",
    "    range_multiplier = int(1 / step)\n",
    "    result = [item / range_multiplier for item in\n",
    "              range(start * range_multiplier,\n",
    "                    stop * range_multiplier) if\n",
    "              item / range_multiplier not in exclude]\n",
    "    return result"
   ]
  },
  {
   "cell_type": "code",
   "execution_count": 14,
   "id": "1da23ea5",
   "metadata": {},
   "outputs": [
    {
     "name": "stdout",
     "output_type": "stream",
     "text": [
      "[-2.0, -1.9, -1.8, -1.7, -1.6, -1.4, -1.3, -1.2, -1.1, -1.0, -0.9, -0.8, -0.7, -0.6, -0.5, -0.4, -0.3, -0.2, -0.1, 0.1, 0.3, 0.4, 0.5, 0.6, 0.7, 0.8, 0.9, 1.0, 1.1, 1.2, 1.3, 1.4, 1.5, 1.6, 1.7, 1.8, 1.9]\n"
     ]
    }
   ],
   "source": [
    "print(generate_xs(-2, 2, 0.1, [0, -1.5, 0.2]))"
   ]
  },
  {
   "cell_type": "code",
   "execution_count": 5,
   "id": "bfbc3ab9",
   "metadata": {},
   "outputs": [
    {
     "name": "stdout",
     "output_type": "stream",
     "text": [
      "[-1.0, -0.9, -0.8, -0.7, -0.6, -0.5, -0.4, -0.3, -0.2, -0.1, 0.1, 0.2, 0.3, 0.4, 0.5, 0.6, 0.7, 0.8, 0.9]\n"
     ]
    }
   ],
   "source": [
    "xs = [num / 10 for num in range(-10, 10) if num != 0]\n",
    "print(xs)"
   ]
  },
  {
   "cell_type": "code",
   "execution_count": 12,
   "id": "40bcc134",
   "metadata": {},
   "outputs": [
    {
     "name": "stdout",
     "output_type": "stream",
     "text": [
      "[-1.0, -0.9, -0.8, -0.7, -0.6, -0.5, 0.7, 0.8, 0.9]\n"
     ]
    }
   ],
   "source": [
    "broken_xs = [num / 10\n",
    "             for num in range(-10, 10) if \n",
    "            num not in range(-4, 7)]\n",
    "print(broken_xs)"
   ]
  },
  {
   "cell_type": "code",
   "execution_count": 17,
   "id": "d5ccc811",
   "metadata": {},
   "outputs": [
    {
     "name": "stdout",
     "output_type": "stream",
     "text": [
      "42 43\n",
      "<class 'str'>\n"
     ]
    },
    {
     "ename": "ValueError",
     "evalue": "invalid literal for int() with base 10: '42 43'",
     "output_type": "error",
     "traceback": [
      "\u001b[0;31m---------------------------------------------------------------------------\u001b[0m",
      "\u001b[0;31mValueError\u001b[0m                                Traceback (most recent call last)",
      "Input \u001b[0;32mIn [17]\u001b[0m, in \u001b[0;36m<cell line: 3>\u001b[0;34m()\u001b[0m\n\u001b[1;32m      1\u001b[0m input_value \u001b[38;5;241m=\u001b[39m \u001b[38;5;28minput\u001b[39m()\n\u001b[1;32m      2\u001b[0m \u001b[38;5;28mprint\u001b[39m(\u001b[38;5;28mtype\u001b[39m(input_value))\n\u001b[0;32m----> 3\u001b[0m \u001b[38;5;28mprint\u001b[39m(\u001b[38;5;28;43mint\u001b[39;49m\u001b[43m(\u001b[49m\u001b[43minput_value\u001b[49m\u001b[43m)\u001b[49m)\n",
      "\u001b[0;31mValueError\u001b[0m: invalid literal for int() with base 10: '42 43'"
     ]
    }
   ],
   "source": [
    "input_value = input()\n",
    "print(type(input_value))\n",
    "print(int(input_value))"
   ]
  },
  {
   "cell_type": "code",
   "execution_count": 18,
   "id": "30573a44",
   "metadata": {},
   "outputs": [],
   "source": [
    "name = 'Nikita'"
   ]
  },
  {
   "cell_type": "code",
   "execution_count": 19,
   "id": "e7987b50",
   "metadata": {},
   "outputs": [
    {
     "data": {
      "text/plain": [
       "'Nikita'"
      ]
     },
     "execution_count": 19,
     "metadata": {},
     "output_type": "execute_result"
    }
   ],
   "source": [
    "name"
   ]
  },
  {
   "cell_type": "code",
   "execution_count": 21,
   "id": "2a22f144",
   "metadata": {},
   "outputs": [
    {
     "name": "stdout",
     "output_type": "stream",
     "text": [
      "nikita\n"
     ]
    }
   ],
   "source": [
    "name_in_lower_register = name.lower()\n",
    "print(name_in_lower_register)"
   ]
  },
  {
   "cell_type": "code",
   "execution_count": 23,
   "id": "270b810d",
   "metadata": {},
   "outputs": [],
   "source": [
    "name = name_in_lower_register"
   ]
  },
  {
   "cell_type": "code",
   "execution_count": 24,
   "id": "cd66daaf",
   "metadata": {},
   "outputs": [
    {
     "data": {
      "text/plain": [
       "'nIkIta'"
      ]
     },
     "execution_count": 24,
     "metadata": {},
     "output_type": "execute_result"
    }
   ],
   "source": [
    "name.replace('i', 'I')"
   ]
  },
  {
   "cell_type": "code",
   "execution_count": 25,
   "id": "f17f1a7e",
   "metadata": {},
   "outputs": [
    {
     "name": "stdout",
     "output_type": "stream",
     "text": [
      "NIKITA\n"
     ]
    }
   ],
   "source": [
    "name = name.upper()\n",
    "print(name)"
   ]
  },
  {
   "cell_type": "code",
   "execution_count": 27,
   "id": "017baae6",
   "metadata": {},
   "outputs": [
    {
     "name": "stdout",
     "output_type": "stream",
     "text": [
      "NlKlTA\n"
     ]
    }
   ],
   "source": [
    "my_login = name.replace('I', 'l')\n",
    "print(my_login)"
   ]
  },
  {
   "cell_type": "code",
   "execution_count": 31,
   "id": "17c93c62",
   "metadata": {},
   "outputs": [
    {
     "name": "stdout",
     "output_type": "stream",
     "text": [
      "1,5,42\n",
      "[1, 5, 42]\n"
     ]
    }
   ],
   "source": [
    "many_nums = [int(item) for item in input().split(',')]\n",
    "print(many_nums)"
   ]
  },
  {
   "cell_type": "markdown",
   "id": "f31bb8f6",
   "metadata": {},
   "source": [
    "Копирование"
   ]
  },
  {
   "cell_type": "code",
   "execution_count": 32,
   "id": "438e44be",
   "metadata": {},
   "outputs": [],
   "source": [
    "from copy import deepcopy\n",
    "some_array = [1, 5, ['x', 'y'], False]\n",
    "other_array = some_array"
   ]
  },
  {
   "cell_type": "code",
   "execution_count": 33,
   "id": "746402eb",
   "metadata": {},
   "outputs": [
    {
     "name": "stdout",
     "output_type": "stream",
     "text": [
      "[255, 5, ['x', 'y'], False]\n"
     ]
    }
   ],
   "source": [
    "other_array[0] = 255\n",
    "print(some_array)"
   ]
  },
  {
   "cell_type": "code",
   "execution_count": 34,
   "id": "9fb6ac8b",
   "metadata": {},
   "outputs": [],
   "source": [
    "deeply_copied_array = deepcopy(some_array)"
   ]
  },
  {
   "cell_type": "code",
   "execution_count": 35,
   "id": "29ea93f6",
   "metadata": {},
   "outputs": [
    {
     "name": "stdout",
     "output_type": "stream",
     "text": [
      "[255, 5, ['x', 'y'], True]\n",
      "[255, 5, ['x', 'y'], False]\n"
     ]
    }
   ],
   "source": [
    "deeply_copied_array[-1] = True\n",
    "print(deeply_copied_array)\n",
    "print(some_array)"
   ]
  },
  {
   "cell_type": "code",
   "execution_count": 37,
   "id": "1ee1cc03",
   "metadata": {},
   "outputs": [
    {
     "name": "stdout",
     "output_type": "stream",
     "text": [
      "[0, 1, 2, 3, 4, 5, 6, 7, 8, 9]\n"
     ]
    }
   ],
   "source": [
    "sample = [item for item in range(10)]\n",
    "print(sample)"
   ]
  },
  {
   "cell_type": "code",
   "execution_count": 38,
   "id": "f0108655",
   "metadata": {},
   "outputs": [
    {
     "data": {
      "text/plain": [
       "[1, 2, 3, 4]"
      ]
     },
     "execution_count": 38,
     "metadata": {},
     "output_type": "execute_result"
    }
   ],
   "source": [
    "sample[1:5]"
   ]
  },
  {
   "cell_type": "code",
   "execution_count": 39,
   "id": "a9e1ef99",
   "metadata": {},
   "outputs": [
    {
     "data": {
      "text/plain": [
       "[2, 3, 4, 5, 6, 7, 8, 9]"
      ]
     },
     "execution_count": 39,
     "metadata": {},
     "output_type": "execute_result"
    }
   ],
   "source": [
    "sample[2:]"
   ]
  },
  {
   "cell_type": "code",
   "execution_count": 41,
   "id": "cc573099",
   "metadata": {},
   "outputs": [
    {
     "data": {
      "text/plain": [
       "[0, 1, 2, 3, 4]"
      ]
     },
     "execution_count": 41,
     "metadata": {},
     "output_type": "execute_result"
    }
   ],
   "source": [
    "sample[:5]"
   ]
  },
  {
   "cell_type": "code",
   "execution_count": 42,
   "id": "1ae5c350",
   "metadata": {},
   "outputs": [
    {
     "data": {
      "text/plain": [
       "[0, 1, 2, 3, 4, 5, 6, 7, 8]"
      ]
     },
     "execution_count": 42,
     "metadata": {},
     "output_type": "execute_result"
    }
   ],
   "source": [
    "sample[:-1]"
   ]
  },
  {
   "cell_type": "code",
   "execution_count": 43,
   "id": "cbd0f906",
   "metadata": {},
   "outputs": [
    {
     "data": {
      "text/plain": [
       "[2, 3, 4, 5, 6, 7, 8]"
      ]
     },
     "execution_count": 43,
     "metadata": {},
     "output_type": "execute_result"
    }
   ],
   "source": [
    "sample[2:-1]"
   ]
  },
  {
   "cell_type": "code",
   "execution_count": 44,
   "id": "70457397",
   "metadata": {},
   "outputs": [
    {
     "data": {
      "text/plain": [
       "[2, 4, 6, 8]"
      ]
     },
     "execution_count": 44,
     "metadata": {},
     "output_type": "execute_result"
    }
   ],
   "source": [
    "sample[2:-1:2]"
   ]
  },
  {
   "cell_type": "code",
   "execution_count": 51,
   "id": "1ddb076c",
   "metadata": {},
   "outputs": [
    {
     "data": {
      "text/plain": [
       "[8, 6, 4]"
      ]
     },
     "execution_count": 51,
     "metadata": {},
     "output_type": "execute_result"
    }
   ],
   "source": [
    "sample[8:2:-2]"
   ]
  },
  {
   "cell_type": "code",
   "execution_count": 52,
   "id": "ee4671d3",
   "metadata": {},
   "outputs": [
    {
     "data": {
      "text/plain": [
       "[9, 8, 7, 6, 5, 4, 3, 2, 1, 0]"
      ]
     },
     "execution_count": 52,
     "metadata": {},
     "output_type": "execute_result"
    }
   ],
   "source": [
    "sample[::-1]"
   ]
  },
  {
   "cell_type": "code",
   "execution_count": 53,
   "id": "f7a99d4a",
   "metadata": {},
   "outputs": [
    {
     "data": {
      "text/plain": [
       "[0, 1, 2, 3, 4, 5, 6, 7, 8, 9]"
      ]
     },
     "execution_count": 53,
     "metadata": {},
     "output_type": "execute_result"
    }
   ],
   "source": [
    "sample"
   ]
  },
  {
   "cell_type": "code",
   "execution_count": 54,
   "id": "cd884f70",
   "metadata": {},
   "outputs": [
    {
     "data": {
      "text/plain": [
       "[0, 1, 2, 3, 4, 5, 6, 7, 8, 9]"
      ]
     },
     "execution_count": 54,
     "metadata": {},
     "output_type": "execute_result"
    }
   ],
   "source": [
    "sample[:]"
   ]
  },
  {
   "cell_type": "code",
   "execution_count": 72,
   "id": "ee6c90a5",
   "metadata": {},
   "outputs": [],
   "source": [
    "array = [1, [11, 12], 2]"
   ]
  },
  {
   "cell_type": "code",
   "execution_count": 73,
   "id": "a551a65f",
   "metadata": {},
   "outputs": [],
   "source": [
    "copied_array = array[:]\n",
    "deeply_copied_array = deepcopy(array)"
   ]
  },
  {
   "cell_type": "code",
   "execution_count": 74,
   "id": "16b3fdf6",
   "metadata": {},
   "outputs": [
    {
     "name": "stdout",
     "output_type": "stream",
     "text": [
      "[1, [11, 12], 2]\n",
      "[1, [11, 12], 2]\n",
      "[1, [11, 12], 2]\n"
     ]
    }
   ],
   "source": [
    "print(array, copied_array, deeply_copied_array, sep='\\n')"
   ]
  },
  {
   "cell_type": "code",
   "execution_count": 75,
   "id": "59e89ef4",
   "metadata": {},
   "outputs": [],
   "source": [
    "copied_array[1][0] = 'MODIFIED'\n",
    "deeply_copied_array[1][1] = 'MODIFIED_IN_DEEP'\n",
    "copied_array[0] = 255"
   ]
  },
  {
   "cell_type": "code",
   "execution_count": 76,
   "id": "40f53cfd",
   "metadata": {},
   "outputs": [
    {
     "name": "stdout",
     "output_type": "stream",
     "text": [
      "[1, ['MODIFIED', 12], 2]\n",
      "[255, ['MODIFIED', 12], 2]\n",
      "[1, [11, 'MODIFIED_IN_DEEP'], 2]\n"
     ]
    }
   ],
   "source": [
    "print(array, copied_array, deeply_copied_array, sep='\\n')"
   ]
  }
 ],
 "metadata": {
  "kernelspec": {
   "display_name": "Python 3 (ipykernel)",
   "language": "python",
   "name": "python3"
  },
  "language_info": {
   "codemirror_mode": {
    "name": "ipython",
    "version": 3
   },
   "file_extension": ".py",
   "mimetype": "text/x-python",
   "name": "python",
   "nbconvert_exporter": "python",
   "pygments_lexer": "ipython3",
   "version": "3.10.5"
  }
 },
 "nbformat": 4,
 "nbformat_minor": 5
}
