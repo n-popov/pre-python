{
 "cells": [
  {
   "cell_type": "code",
   "execution_count": 1,
   "id": "8795826e",
   "metadata": {},
   "outputs": [],
   "source": [
    "import random"
   ]
  },
  {
   "cell_type": "code",
   "execution_count": 2,
   "id": "402bf6f3",
   "metadata": {},
   "outputs": [],
   "source": [
    "random_number = random.randint(0, 10)"
   ]
  },
  {
   "cell_type": "code",
   "execution_count": 3,
   "id": "8349c62e",
   "metadata": {},
   "outputs": [
    {
     "name": "stdout",
     "output_type": "stream",
     "text": [
      "1\n"
     ]
    }
   ],
   "source": [
    "print(random_number)"
   ]
  },
  {
   "cell_type": "code",
   "execution_count": 4,
   "id": "ca00dce6",
   "metadata": {},
   "outputs": [
    {
     "name": "stdout",
     "output_type": "stream",
     "text": [
      "3\n"
     ]
    }
   ],
   "source": [
    "array = [1, 'x', 3.33]\n",
    "array_length = len(array)\n",
    "print(array_length)"
   ]
  },
  {
   "cell_type": "code",
   "execution_count": 5,
   "id": "aba34ddf",
   "metadata": {},
   "outputs": [],
   "source": [
    "def length(some_array):\n",
    "    some_array_length = 0\n",
    "    for item in some_array:\n",
    "        some_array_length += 1\n",
    "    return some_array_length"
   ]
  },
  {
   "cell_type": "code",
   "execution_count": 7,
   "id": "57ad70d6",
   "metadata": {},
   "outputs": [
    {
     "name": "stdout",
     "output_type": "stream",
     "text": [
      "3\n"
     ]
    }
   ],
   "source": [
    "our_length = length(array)\n",
    "print(our_length)"
   ]
  },
  {
   "cell_type": "code",
   "execution_count": 14,
   "id": "6b2d8456",
   "metadata": {},
   "outputs": [
    {
     "name": "stdout",
     "output_type": "stream",
     "text": [
      "2 3 4 "
     ]
    }
   ],
   "source": [
    "for number in range(2, 5):\n",
    "    print(number, end=' ')"
   ]
  },
  {
   "cell_type": "code",
   "execution_count": 15,
   "id": "c430d43c",
   "metadata": {},
   "outputs": [],
   "source": [
    "def square_array(array_of_numbers):\n",
    "    for number_index in range(len(array_of_numbers)):\n",
    "        array_of_numbers[number_index] = array_of_numbers[number_index] ** 2"
   ]
  },
  {
   "cell_type": "code",
   "execution_count": 16,
   "id": "f2253349",
   "metadata": {},
   "outputs": [
    {
     "name": "stdout",
     "output_type": "stream",
     "text": [
      "[1, 4, 9, 1764]\n"
     ]
    }
   ],
   "source": [
    "numbers = [1, 2, 3, 42]\n",
    "square_array(numbers)\n",
    "print(numbers)"
   ]
  },
  {
   "cell_type": "code",
   "execution_count": 18,
   "id": "6788d8a9",
   "metadata": {},
   "outputs": [],
   "source": [
    "import math"
   ]
  },
  {
   "cell_type": "code",
   "execution_count": 19,
   "id": "8c9d45a4",
   "metadata": {},
   "outputs": [],
   "source": [
    "some_float = 3.22"
   ]
  },
  {
   "cell_type": "code",
   "execution_count": 20,
   "id": "16a79820",
   "metadata": {},
   "outputs": [
    {
     "name": "stdout",
     "output_type": "stream",
     "text": [
      "3\n"
     ]
    }
   ],
   "source": [
    "print(math.floor(some_float))"
   ]
  },
  {
   "cell_type": "code",
   "execution_count": 21,
   "id": "238c1a8d",
   "metadata": {},
   "outputs": [
    {
     "name": "stdout",
     "output_type": "stream",
     "text": [
      "4\n"
     ]
    }
   ],
   "source": [
    "print(math.ceil(some_float))"
   ]
  },
  {
   "cell_type": "code",
   "execution_count": 23,
   "id": "f5ff9a2d",
   "metadata": {},
   "outputs": [
    {
     "name": "stdout",
     "output_type": "stream",
     "text": [
      "3.22\n"
     ]
    }
   ],
   "source": [
    "print(abs(some_float))"
   ]
  },
  {
   "cell_type": "code",
   "execution_count": 24,
   "id": "4c350ccf",
   "metadata": {},
   "outputs": [
    {
     "name": "stdout",
     "output_type": "stream",
     "text": [
      "3.22\n"
     ]
    }
   ],
   "source": [
    "print(abs(-some_float))"
   ]
  },
  {
   "cell_type": "code",
   "execution_count": 25,
   "id": "6b598eba",
   "metadata": {},
   "outputs": [
    {
     "name": "stdout",
     "output_type": "stream",
     "text": [
      "1.169381359556317\n"
     ]
    }
   ],
   "source": [
    "print(math.log(some_float))"
   ]
  },
  {
   "cell_type": "code",
   "execution_count": 26,
   "id": "61821343",
   "metadata": {},
   "outputs": [
    {
     "name": "stdout",
     "output_type": "stream",
     "text": [
      "1.6870606883398924\n"
     ]
    }
   ],
   "source": [
    "print(math.log2(some_float))"
   ]
  },
  {
   "cell_type": "code",
   "execution_count": 27,
   "id": "9b7a874d",
   "metadata": {},
   "outputs": [
    {
     "name": "stdout",
     "output_type": "stream",
     "text": [
      "0.5078558716958309\n"
     ]
    }
   ],
   "source": [
    "print(math.log10(some_float))"
   ]
  },
  {
   "cell_type": "code",
   "execution_count": 28,
   "id": "5011764f",
   "metadata": {},
   "outputs": [],
   "source": [
    "from math import log, log2"
   ]
  },
  {
   "cell_type": "code",
   "execution_count": 29,
   "id": "bbddd443",
   "metadata": {},
   "outputs": [
    {
     "data": {
      "text/plain": [
       "0.4054651081081644"
      ]
     },
     "execution_count": 29,
     "metadata": {},
     "output_type": "execute_result"
    }
   ],
   "source": [
    "log(1.5)"
   ]
  },
  {
   "cell_type": "code",
   "execution_count": 30,
   "id": "92c548c2",
   "metadata": {},
   "outputs": [
    {
     "ename": "ValueError",
     "evalue": "math domain error",
     "output_type": "error",
     "traceback": [
      "\u001b[0;31m---------------------------------------------------------------------------\u001b[0m",
      "\u001b[0;31mValueError\u001b[0m                                Traceback (most recent call last)",
      "Input \u001b[0;32mIn [30]\u001b[0m, in \u001b[0;36m<cell line: 1>\u001b[0;34m()\u001b[0m\n\u001b[0;32m----> 1\u001b[0m \u001b[43mlog\u001b[49m\u001b[43m(\u001b[49m\u001b[38;5;241;43m-\u001b[39;49m\u001b[38;5;241;43m0.4\u001b[39;49m\u001b[43m)\u001b[49m\n",
      "\u001b[0;31mValueError\u001b[0m: math domain error"
     ]
    }
   ],
   "source": [
    "log(-0.4)"
   ]
  },
  {
   "cell_type": "code",
   "execution_count": 31,
   "id": "cfe7d523",
   "metadata": {},
   "outputs": [],
   "source": [
    "from math import log as ln"
   ]
  },
  {
   "cell_type": "code",
   "execution_count": 32,
   "id": "4656eab4",
   "metadata": {},
   "outputs": [
    {
     "data": {
      "text/plain": [
       "1.0"
      ]
     },
     "execution_count": 32,
     "metadata": {},
     "output_type": "execute_result"
    }
   ],
   "source": [
    "ln(math.exp(1))"
   ]
  },
  {
   "cell_type": "code",
   "execution_count": 33,
   "id": "0101ded9",
   "metadata": {},
   "outputs": [],
   "source": [
    "from time import *"
   ]
  },
  {
   "cell_type": "code",
   "execution_count": 34,
   "id": "1693de0b",
   "metadata": {},
   "outputs": [
    {
     "name": "stdout",
     "output_type": "stream",
     "text": [
      "1661595407.137581\n"
     ]
    }
   ],
   "source": [
    "print(time())"
   ]
  },
  {
   "cell_type": "code",
   "execution_count": 35,
   "id": "10f04ea8",
   "metadata": {},
   "outputs": [],
   "source": [
    "sleep(2)"
   ]
  },
  {
   "cell_type": "code",
   "execution_count": 36,
   "id": "792bfa42",
   "metadata": {},
   "outputs": [],
   "source": [
    "squares = []\n",
    "for number in range(-5, 5 + 1):\n",
    "    squares.append(number ** 2)"
   ]
  },
  {
   "cell_type": "code",
   "execution_count": 37,
   "id": "23d3d8f3",
   "metadata": {},
   "outputs": [
    {
     "data": {
      "text/plain": [
       "[25, 16, 9, 4, 1, 0, 1, 4, 9, 16, 25]"
      ]
     },
     "execution_count": 37,
     "metadata": {},
     "output_type": "execute_result"
    }
   ],
   "source": [
    "squares"
   ]
  },
  {
   "cell_type": "code",
   "execution_count": 38,
   "id": "2064d0ba",
   "metadata": {},
   "outputs": [],
   "source": [
    "from matplotlib import pyplot"
   ]
  },
  {
   "cell_type": "code",
   "execution_count": 39,
   "id": "3ea1d384",
   "metadata": {},
   "outputs": [
    {
     "data": {
      "image/png": "[encoded data removed]",
      "text/plain": [
       "<Figure size 640x480 with 1 Axes>"
      ]
     },
     "metadata": {},
     "output_type": "display_data"
    }
   ],
   "source": [
    "pyplot.plot(squares)\n",
    "pyplot.show()"
   ]
  },
  {
   "cell_type": "code",
   "execution_count": 41,
   "id": "df438a1b",
   "metadata": {},
   "outputs": [
    {
     "data": {
      "text/plain": [
       "[-5, -4, -3, -2, -1, 0, 1, 2, 3, 4, 5]"
      ]
     },
     "execution_count": 41,
     "metadata": {},
     "output_type": "execute_result"
    }
   ],
   "source": [
    "xs = []\n",
    "for number in range(-5, 5 + 1):\n",
    "    xs.append(number)\n",
    "xs"
   ]
  },
  {
   "cell_type": "code",
   "execution_count": 45,
   "id": "9951127d",
   "metadata": {},
   "outputs": [
    {
     "data": {
      "image/png": "[encoded data removed]",
      "text/plain": [
       "<Figure size 640x480 with 1 Axes>"
      ]
     },
     "metadata": {},
     "output_type": "display_data"
    }
   ],
   "source": [
    "pyplot.scatter(xs, squares, color='green')\n",
    "pyplot.title('График квадратов')\n",
    "pyplot.xlabel('Иксы, ед.')\n",
    "pyplot.ylabel('Квадраты иксов, ед.')\n",
    "pyplot.grid()\n",
    "pyplot.show()"
   ]
  },
  {
   "cell_type": "code",
   "execution_count": 1,
   "id": "cea02be4",
   "metadata": {},
   "outputs": [
    {
     "name": "stdout",
     "output_type": "stream",
     "text": [
      "[1.0, 2.718281828459045, 7.38905609893065, 20.085536923187668, 54.598150033144236, 148.4131591025766, 403.4287934927351, 1096.6331584284585, 2980.9579870417283, 8103.083927575384]\n"
     ]
    }
   ],
   "source": [
    "from math import exp\n",
    "exps = []\n",
    "\n",
    "for number in range(10):\n",
    "    exps.append(exp(number))\n",
    "\n",
    "print(exps)\n",
    "\n",
    "\n",
    "with open('output.txt', 'a') as file_descriptor:\n",
    "    file_descriptor.write(str(exps) + '\\n')"
   ]
  }
 ],
 "metadata": {
  "kernelspec": {
   "display_name": "Python 3 (ipykernel)",
   "language": "python",
   "name": "python3"
  },
  "language_info": {
   "codemirror_mode": {
    "name": "ipython",
    "version": 3
   },
   "file_extension": ".py",
   "mimetype": "text/x-python",
   "name": "python",
   "nbconvert_exporter": "python",
   "pygments_lexer": "ipython3",
   "version": "3.10.5"
  }
 },
 "nbformat": 4,
 "nbformat_minor": 5
}
