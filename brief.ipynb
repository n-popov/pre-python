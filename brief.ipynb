{
 "cells": [
  {
   "cell_type": "markdown",
   "id": "c6e159db",
   "metadata": {},
   "source": [
    "<h1>Cheat Sheet</h1>"
   ]
  },
  {
   "cell_type": "markdown",
   "id": "cd334745",
   "metadata": {},
   "source": [
    "<h2>Типы и операторы</h2>"
   ]
  },
  {
   "cell_type": "markdown",
   "id": "e940a958",
   "metadata": {},
   "source": [
    "<ul>\n",
    "    <li>\n",
    "        Целые числа &mdash; int\n",
    "    </li>"
   ]
  },
  {
   "cell_type": "code",
   "execution_count": 1,
   "id": "bcf0b636",
   "metadata": {},
   "outputs": [
    {
     "data": {
      "text/plain": [
       "42"
      ]
     },
     "execution_count": 1,
     "metadata": {},
     "output_type": "execute_result"
    }
   ],
   "source": [
    "42"
   ]
  },
  {
   "cell_type": "code",
   "execution_count": 2,
   "id": "36894bd3",
   "metadata": {},
   "outputs": [
    {
     "data": {
      "text/plain": [
       "int"
      ]
     },
     "execution_count": 2,
     "metadata": {},
     "output_type": "execute_result"
    }
   ],
   "source": [
    "type(42)\n"
   ]
  },
  {
   "cell_type": "markdown",
   "id": "b300254e",
   "metadata": {},
   "source": [
    "<li>Вещественные числа &mdash; float. В программировании, как и в английском языке, используется точка как разделитель разрядов.</li>"
   ]
  },
  {
   "cell_type": "code",
   "execution_count": 3,
   "id": "e49c91cc",
   "metadata": {},
   "outputs": [
    {
     "data": {
      "text/plain": [
       "8.71"
      ]
     },
     "execution_count": 3,
     "metadata": {},
     "output_type": "execute_result"
    }
   ],
   "source": [
    "8.71"
   ]
  },
  {
   "cell_type": "code",
   "execution_count": 4,
   "id": "f3bbef92",
   "metadata": {},
   "outputs": [
    {
     "data": {
      "text/plain": [
       "float"
      ]
     },
     "execution_count": 4,
     "metadata": {},
     "output_type": "execute_result"
    }
   ],
   "source": [
    "type(8.71)"
   ]
  },
  {
   "cell_type": "markdown",
   "id": "18288c07",
   "metadata": {},
   "source": [
    "Если попробуем запятую, получим особый тип данных &mdash; кортеж."
   ]
  },
  {
   "cell_type": "code",
   "execution_count": 5,
   "id": "161986b5",
   "metadata": {},
   "outputs": [
    {
     "data": {
      "text/plain": [
       "(8, 71)"
      ]
     },
     "execution_count": 5,
     "metadata": {},
     "output_type": "execute_result"
    }
   ],
   "source": [
    "8,71"
   ]
  },
  {
   "cell_type": "code",
   "execution_count": 6,
   "id": "1557bc67",
   "metadata": {},
   "outputs": [
    {
     "data": {
      "text/plain": [
       "tuple"
      ]
     },
     "execution_count": 6,
     "metadata": {},
     "output_type": "execute_result"
    }
   ],
   "source": [
    "type((8,71))"
   ]
  },
  {
   "cell_type": "markdown",
   "id": "aaafe5a3",
   "metadata": {},
   "source": [
    "<li>Стандартная математика</li>"
   ]
  },
  {
   "cell_type": "code",
   "execution_count": 7,
   "id": "47754582",
   "metadata": {},
   "outputs": [
    {
     "data": {
      "text/plain": [
       "84"
      ]
     },
     "execution_count": 7,
     "metadata": {},
     "output_type": "execute_result"
    }
   ],
   "source": [
    "42 + 42"
   ]
  },
  {
   "cell_type": "code",
   "execution_count": 8,
   "id": "2630efd6",
   "metadata": {},
   "outputs": [
    {
     "data": {
      "text/plain": [
       "35"
      ]
     },
     "execution_count": 8,
     "metadata": {},
     "output_type": "execute_result"
    }
   ],
   "source": [
    "42 - 7"
   ]
  },
  {
   "cell_type": "code",
   "execution_count": 9,
   "id": "af856c6e",
   "metadata": {},
   "outputs": [
    {
     "data": {
      "text/plain": [
       "21.0"
      ]
     },
     "execution_count": 9,
     "metadata": {},
     "output_type": "execute_result"
    }
   ],
   "source": [
    "42 / 2"
   ]
  },
  {
   "cell_type": "code",
   "execution_count": 10,
   "id": "ebeda37a",
   "metadata": {},
   "outputs": [
    {
     "data": {
      "text/plain": [
       "84"
      ]
     },
     "execution_count": 10,
     "metadata": {},
     "output_type": "execute_result"
    }
   ],
   "source": [
    "42 * 2"
   ]
  },
  {
   "cell_type": "markdown",
   "id": "a1b5079c",
   "metadata": {},
   "source": [
    "<li>Оператор целочисленного деления &mdash; округление вниз до ближайшего целого</li>"
   ]
  },
  {
   "cell_type": "code",
   "execution_count": 11,
   "id": "7c47b91f",
   "metadata": {},
   "outputs": [
    {
     "data": {
      "text/plain": [
       "21"
      ]
     },
     "execution_count": 11,
     "metadata": {},
     "output_type": "execute_result"
    }
   ],
   "source": [
    "42 // 2"
   ]
  },
  {
   "cell_type": "code",
   "execution_count": 12,
   "id": "d1a33695",
   "metadata": {},
   "outputs": [
    {
     "data": {
      "text/plain": [
       "10"
      ]
     },
     "execution_count": 12,
     "metadata": {},
     "output_type": "execute_result"
    }
   ],
   "source": [
    "42 // 4"
   ]
  },
  {
   "cell_type": "code",
   "execution_count": 13,
   "id": "d9bb27c3",
   "metadata": {},
   "outputs": [
    {
     "data": {
      "text/plain": [
       "-11"
      ]
     },
     "execution_count": 13,
     "metadata": {},
     "output_type": "execute_result"
    }
   ],
   "source": [
    "42 // -4"
   ]
  },
  {
   "cell_type": "code",
   "execution_count": 14,
   "id": "a7f31b5d",
   "metadata": {},
   "outputs": [
    {
     "data": {
      "text/plain": [
       "10.0"
      ]
     },
     "execution_count": 14,
     "metadata": {},
     "output_type": "execute_result"
    }
   ],
   "source": [
    "42.0 // 4.0"
   ]
  },
  {
   "cell_type": "markdown",
   "id": "4313b845",
   "metadata": {},
   "source": [
    "<li>Остаток от деления</li>"
   ]
  },
  {
   "cell_type": "code",
   "execution_count": 15,
   "id": "f483314d",
   "metadata": {},
   "outputs": [
    {
     "data": {
      "text/plain": [
       "2"
      ]
     },
     "execution_count": 15,
     "metadata": {},
     "output_type": "execute_result"
    }
   ],
   "source": [
    "42 % 4"
   ]
  },
  {
   "cell_type": "code",
   "execution_count": 16,
   "id": "4a6be983",
   "metadata": {},
   "outputs": [
    {
     "data": {
      "text/plain": [
       "2"
      ]
     },
     "execution_count": 16,
     "metadata": {},
     "output_type": "execute_result"
    }
   ],
   "source": [
    "-42 % 4"
   ]
  },
  {
   "cell_type": "code",
   "execution_count": 17,
   "id": "c0512d27",
   "metadata": {},
   "outputs": [
    {
     "data": {
      "text/plain": [
       "-2"
      ]
     },
     "execution_count": 17,
     "metadata": {},
     "output_type": "execute_result"
    }
   ],
   "source": [
    "42 % -4"
   ]
  },
  {
   "cell_type": "markdown",
   "id": "de606d2a",
   "metadata": {},
   "source": [
    "<li>Возведение в степень</li>"
   ]
  },
  {
   "cell_type": "code",
   "execution_count": 18,
   "id": "f04745ff",
   "metadata": {},
   "outputs": [
    {
     "data": {
      "text/plain": [
       "125"
      ]
     },
     "execution_count": 18,
     "metadata": {},
     "output_type": "execute_result"
    }
   ],
   "source": [
    "5 ** 3"
   ]
  },
  {
   "cell_type": "code",
   "execution_count": 19,
   "id": "527cfe4a",
   "metadata": {},
   "outputs": [
    {
     "data": {
      "text/plain": [
       "8.0"
      ]
     },
     "execution_count": 19,
     "metadata": {},
     "output_type": "execute_result"
    }
   ],
   "source": [
    "4 ** 1.5"
   ]
  },
  {
   "cell_type": "markdown",
   "id": "21b50e01",
   "metadata": {},
   "source": [
    "<li>Использование скобок</li>"
   ]
  },
  {
   "cell_type": "code",
   "execution_count": 20,
   "id": "c821f3da",
   "metadata": {},
   "outputs": [
    {
     "data": {
      "text/plain": [
       "18"
      ]
     },
     "execution_count": 20,
     "metadata": {},
     "output_type": "execute_result"
    }
   ],
   "source": [
    "4 + 2 * 7"
   ]
  },
  {
   "cell_type": "code",
   "execution_count": 21,
   "id": "9b34e0f4",
   "metadata": {},
   "outputs": [
    {
     "data": {
      "text/plain": [
       "42"
      ]
     },
     "execution_count": 21,
     "metadata": {},
     "output_type": "execute_result"
    }
   ],
   "source": [
    "(4 + 2) * 7"
   ]
  },
  {
   "cell_type": "markdown",
   "id": "62d36b68",
   "metadata": {},
   "source": [
    "<li>Булевы величины</li>"
   ]
  },
  {
   "cell_type": "code",
   "execution_count": 22,
   "id": "ea03153e",
   "metadata": {},
   "outputs": [
    {
     "data": {
      "text/plain": [
       "True"
      ]
     },
     "execution_count": 22,
     "metadata": {},
     "output_type": "execute_result"
    }
   ],
   "source": [
    "True"
   ]
  },
  {
   "cell_type": "code",
   "execution_count": 23,
   "id": "ca5b339b",
   "metadata": {},
   "outputs": [
    {
     "data": {
      "text/plain": [
       "False"
      ]
     },
     "execution_count": 23,
     "metadata": {},
     "output_type": "execute_result"
    }
   ],
   "source": [
    "False"
   ]
  },
  {
   "cell_type": "markdown",
   "id": "2d025365",
   "metadata": {},
   "source": [
    "<li>Оператор отрицания</li>"
   ]
  },
  {
   "cell_type": "code",
   "execution_count": 24,
   "id": "e227a636",
   "metadata": {},
   "outputs": [
    {
     "data": {
      "text/plain": [
       "False"
      ]
     },
     "execution_count": 24,
     "metadata": {},
     "output_type": "execute_result"
    }
   ],
   "source": [
    "not True"
   ]
  },
  {
   "cell_type": "code",
   "execution_count": 25,
   "id": "565d6f8b",
   "metadata": {},
   "outputs": [
    {
     "data": {
      "text/plain": [
       "True"
      ]
     },
     "execution_count": 25,
     "metadata": {},
     "output_type": "execute_result"
    }
   ],
   "source": [
    "not False"
   ]
  },
  {
   "cell_type": "markdown",
   "id": "81d6b036",
   "metadata": {},
   "source": [
    "<li>Операторы конъюнкции и дизъюнкции</li>"
   ]
  },
  {
   "cell_type": "code",
   "execution_count": 26,
   "id": "690619f2",
   "metadata": {},
   "outputs": [
    {
     "data": {
      "text/plain": [
       "True"
      ]
     },
     "execution_count": 26,
     "metadata": {},
     "output_type": "execute_result"
    }
   ],
   "source": [
    "True and True"
   ]
  },
  {
   "cell_type": "code",
   "execution_count": 27,
   "id": "1ce42318",
   "metadata": {},
   "outputs": [
    {
     "data": {
      "text/plain": [
       "False"
      ]
     },
     "execution_count": 27,
     "metadata": {},
     "output_type": "execute_result"
    }
   ],
   "source": [
    "True and False"
   ]
  },
  {
   "cell_type": "code",
   "execution_count": 28,
   "id": "2121564f",
   "metadata": {},
   "outputs": [
    {
     "data": {
      "text/plain": [
       "False"
      ]
     },
     "execution_count": 28,
     "metadata": {},
     "output_type": "execute_result"
    }
   ],
   "source": [
    "False and True"
   ]
  },
  {
   "cell_type": "code",
   "execution_count": 29,
   "id": "ae870eac",
   "metadata": {},
   "outputs": [
    {
     "data": {
      "text/plain": [
       "False"
      ]
     },
     "execution_count": 29,
     "metadata": {},
     "output_type": "execute_result"
    }
   ],
   "source": [
    "False and False"
   ]
  },
  {
   "cell_type": "code",
   "execution_count": 30,
   "id": "79624eeb",
   "metadata": {},
   "outputs": [
    {
     "data": {
      "text/plain": [
       "True"
      ]
     },
     "execution_count": 30,
     "metadata": {},
     "output_type": "execute_result"
    }
   ],
   "source": [
    "True or True"
   ]
  },
  {
   "cell_type": "code",
   "execution_count": 31,
   "id": "09f5e54d",
   "metadata": {},
   "outputs": [
    {
     "data": {
      "text/plain": [
       "True"
      ]
     },
     "execution_count": 31,
     "metadata": {},
     "output_type": "execute_result"
    }
   ],
   "source": [
    "True or False"
   ]
  },
  {
   "cell_type": "code",
   "execution_count": 32,
   "id": "1cb23944",
   "metadata": {},
   "outputs": [
    {
     "data": {
      "text/plain": [
       "True"
      ]
     },
     "execution_count": 32,
     "metadata": {},
     "output_type": "execute_result"
    }
   ],
   "source": [
    "False or True"
   ]
  },
  {
   "cell_type": "code",
   "execution_count": 33,
   "id": "620ecea5",
   "metadata": {},
   "outputs": [
    {
     "data": {
      "text/plain": [
       "False"
      ]
     },
     "execution_count": 33,
     "metadata": {},
     "output_type": "execute_result"
    }
   ],
   "source": [
    "False or False"
   ]
  },
  {
   "cell_type": "markdown",
   "id": "b05c8175",
   "metadata": {},
   "source": [
    "<li>Соответствие булевых величин целым числам</li>"
   ]
  },
  {
   "cell_type": "code",
   "execution_count": 34,
   "id": "04b4f786",
   "metadata": {},
   "outputs": [
    {
     "data": {
      "text/plain": [
       "2"
      ]
     },
     "execution_count": 34,
     "metadata": {},
     "output_type": "execute_result"
    }
   ],
   "source": [
    "True + True"
   ]
  },
  {
   "cell_type": "code",
   "execution_count": 35,
   "id": "53dc866f",
   "metadata": {},
   "outputs": [
    {
     "data": {
      "text/plain": [
       "-1"
      ]
     },
     "execution_count": 35,
     "metadata": {},
     "output_type": "execute_result"
    }
   ],
   "source": [
    "False - 1"
   ]
  },
  {
   "cell_type": "code",
   "execution_count": 36,
   "id": "1ff200f0",
   "metadata": {},
   "outputs": [
    {
     "data": {
      "text/plain": [
       "1"
      ]
     },
     "execution_count": 36,
     "metadata": {},
     "output_type": "execute_result"
    }
   ],
   "source": [
    "True + False"
   ]
  },
  {
   "cell_type": "markdown",
   "id": "4a6d8a3b",
   "metadata": {},
   "source": [
    "<li>Операторы сравнения</li>"
   ]
  },
  {
   "cell_type": "code",
   "execution_count": 37,
   "id": "08037a33",
   "metadata": {},
   "outputs": [
    {
     "data": {
      "text/plain": [
       "True"
      ]
     },
     "execution_count": 37,
     "metadata": {},
     "output_type": "execute_result"
    }
   ],
   "source": [
    "1 == 1"
   ]
  },
  {
   "cell_type": "code",
   "execution_count": 38,
   "id": "87c806b9",
   "metadata": {},
   "outputs": [
    {
     "data": {
      "text/plain": [
       "False"
      ]
     },
     "execution_count": 38,
     "metadata": {},
     "output_type": "execute_result"
    }
   ],
   "source": [
    "1 != 1"
   ]
  },
  {
   "cell_type": "code",
   "execution_count": 39,
   "id": "81626198",
   "metadata": {},
   "outputs": [
    {
     "data": {
      "text/plain": [
       "True"
      ]
     },
     "execution_count": 39,
     "metadata": {},
     "output_type": "execute_result"
    }
   ],
   "source": [
    "4 > 2"
   ]
  },
  {
   "cell_type": "code",
   "execution_count": 40,
   "id": "fce89ec9",
   "metadata": {},
   "outputs": [
    {
     "data": {
      "text/plain": [
       "True"
      ]
     },
     "execution_count": 40,
     "metadata": {},
     "output_type": "execute_result"
    }
   ],
   "source": [
    "4 >= 4"
   ]
  },
  {
   "cell_type": "code",
   "execution_count": 41,
   "id": "64c573cf",
   "metadata": {},
   "outputs": [
    {
     "data": {
      "text/plain": [
       "False"
      ]
     },
     "execution_count": 41,
     "metadata": {},
     "output_type": "execute_result"
    }
   ],
   "source": [
    "4 < 2"
   ]
  },
  {
   "cell_type": "code",
   "execution_count": 42,
   "id": "ea05b032",
   "metadata": {},
   "outputs": [
    {
     "data": {
      "text/plain": [
       "True"
      ]
     },
     "execution_count": 42,
     "metadata": {},
     "output_type": "execute_result"
    }
   ],
   "source": [
    "4 <= 4"
   ]
  },
  {
   "cell_type": "code",
   "execution_count": 43,
   "id": "22ac6923",
   "metadata": {},
   "outputs": [
    {
     "data": {
      "text/plain": [
       "True"
      ]
     },
     "execution_count": 43,
     "metadata": {},
     "output_type": "execute_result"
    }
   ],
   "source": [
    "1 < 2 < 3 <= 3"
   ]
  },
  {
   "cell_type": "code",
   "execution_count": 44,
   "id": "b2911396",
   "metadata": {},
   "outputs": [
    {
     "data": {
      "text/plain": [
       "False"
      ]
     },
     "execution_count": 44,
     "metadata": {},
     "output_type": "execute_result"
    }
   ],
   "source": [
    "1 < 2 < 0"
   ]
  },
  {
   "cell_type": "markdown",
   "id": "c2e40b0c",
   "metadata": {},
   "source": [
    "<li>Операторы приведения типа</li>"
   ]
  },
  {
   "cell_type": "code",
   "execution_count": 45,
   "id": "d2a0e8b8",
   "metadata": {},
   "outputs": [
    {
     "data": {
      "text/plain": [
       "5"
      ]
     },
     "execution_count": 45,
     "metadata": {},
     "output_type": "execute_result"
    }
   ],
   "source": [
    "int(5.0)"
   ]
  },
  {
   "cell_type": "code",
   "execution_count": 46,
   "id": "3f273d61",
   "metadata": {},
   "outputs": [
    {
     "data": {
      "text/plain": [
       "5.0"
      ]
     },
     "execution_count": 46,
     "metadata": {},
     "output_type": "execute_result"
    }
   ],
   "source": [
    "float(5)"
   ]
  },
  {
   "cell_type": "code",
   "execution_count": 47,
   "id": "85aaabec",
   "metadata": {},
   "outputs": [
    {
     "data": {
      "text/plain": [
       "True"
      ]
     },
     "execution_count": 47,
     "metadata": {},
     "output_type": "execute_result"
    }
   ],
   "source": [
    "bool(1)"
   ]
  },
  {
   "cell_type": "code",
   "execution_count": 48,
   "id": "97faff6b",
   "metadata": {},
   "outputs": [
    {
     "data": {
      "text/plain": [
       "False"
      ]
     },
     "execution_count": 48,
     "metadata": {},
     "output_type": "execute_result"
    }
   ],
   "source": [
    "bool(0)"
   ]
  },
  {
   "cell_type": "code",
   "execution_count": 49,
   "id": "b0b9fc8e",
   "metadata": {},
   "outputs": [
    {
     "data": {
      "text/plain": [
       "True"
      ]
     },
     "execution_count": 49,
     "metadata": {},
     "output_type": "execute_result"
    }
   ],
   "source": [
    "bool(-42)"
   ]
  },
  {
   "cell_type": "code",
   "execution_count": 50,
   "id": "f6238d25",
   "metadata": {},
   "outputs": [
    {
     "data": {
      "text/plain": [
       "True"
      ]
     },
     "execution_count": 50,
     "metadata": {},
     "output_type": "execute_result"
    }
   ],
   "source": [
    "bool(42)"
   ]
  },
  {
   "cell_type": "markdown",
   "id": "03cd56fd",
   "metadata": {},
   "source": [
    "<li>Строки &mdash; создаются с помощью апострофов или кавычек</li>"
   ]
  },
  {
   "cell_type": "code",
   "execution_count": 51,
   "id": "4ae26c98",
   "metadata": {},
   "outputs": [
    {
     "data": {
      "text/plain": [
       "'Строка в кавычках'"
      ]
     },
     "execution_count": 51,
     "metadata": {},
     "output_type": "execute_result"
    }
   ],
   "source": [
    "\"Строка в кавычках\""
   ]
  },
  {
   "cell_type": "code",
   "execution_count": 52,
   "id": "eee74f52",
   "metadata": {},
   "outputs": [
    {
     "data": {
      "text/plain": [
       "'Строка в апострофах'"
      ]
     },
     "execution_count": 52,
     "metadata": {},
     "output_type": "execute_result"
    }
   ],
   "source": [
    "'Строка в апострофах'"
   ]
  },
  {
   "cell_type": "markdown",
   "id": "ddb20b72",
   "metadata": {},
   "source": [
    "<li>Сложение и конкатенация</li>"
   ]
  },
  {
   "cell_type": "code",
   "execution_count": 53,
   "id": "e7a01258",
   "metadata": {},
   "outputs": [
    {
     "data": {
      "text/plain": [
       "'42'"
      ]
     },
     "execution_count": 53,
     "metadata": {},
     "output_type": "execute_result"
    }
   ],
   "source": [
    "'4' + '2'"
   ]
  },
  {
   "cell_type": "code",
   "execution_count": 54,
   "id": "541327b0",
   "metadata": {},
   "outputs": [
    {
     "data": {
      "text/plain": [
       "'42'"
      ]
     },
     "execution_count": 54,
     "metadata": {},
     "output_type": "execute_result"
    }
   ],
   "source": [
    "\"4\" \"2\""
   ]
  },
  {
   "cell_type": "markdown",
   "id": "b3c0bc3a",
   "metadata": {},
   "source": [
    "<li>Строка как список</li>"
   ]
  },
  {
   "cell_type": "code",
   "execution_count": 55,
   "id": "2784eecb",
   "metadata": {},
   "outputs": [
    {
     "data": {
      "text/plain": [
       "'3'"
      ]
     },
     "execution_count": 55,
     "metadata": {},
     "output_type": "execute_result"
    }
   ],
   "source": [
    "\"012345678\"[3]"
   ]
  },
  {
   "cell_type": "markdown",
   "id": "4b7de3dc",
   "metadata": {},
   "source": [
    " <li>Длина строки</li>"
   ]
  },
  {
   "cell_type": "code",
   "execution_count": 56,
   "id": "e850f28e",
   "metadata": {},
   "outputs": [
    {
     "data": {
      "text/plain": [
       "5"
      ]
     },
     "execution_count": 56,
     "metadata": {},
     "output_type": "execute_result"
    }
   ],
   "source": [
    "len(\"12345\")"
   ]
  },
  {
   "cell_type": "markdown",
   "id": "0a979b40",
   "metadata": {},
   "source": [
    "<li>None &mdash; \"ничего\".</li>"
   ]
  },
  {
   "cell_type": "code",
   "execution_count": 57,
   "id": "4cb33c4a",
   "metadata": {},
   "outputs": [],
   "source": [
    "None"
   ]
  },
  {
   "cell_type": "code",
   "execution_count": 58,
   "id": "4fad4a45",
   "metadata": {},
   "outputs": [
    {
     "data": {
      "text/plain": [
       "False"
      ]
     },
     "execution_count": 58,
     "metadata": {},
     "output_type": "execute_result"
    }
   ],
   "source": [
    "bool(None)"
   ]
  },
  {
   "cell_type": "code",
   "execution_count": 59,
   "id": "c2554b7e",
   "metadata": {},
   "outputs": [
    {
     "data": {
      "text/plain": [
       "False"
      ]
     },
     "execution_count": 59,
     "metadata": {},
     "output_type": "execute_result"
    }
   ],
   "source": [
    "bool(\"\")"
   ]
  },
  {
   "cell_type": "markdown",
   "id": "6dda7383",
   "metadata": {},
   "source": [
    "</ul>\n",
    "<h2>Переменные и контейнеры</h2>"
   ]
  },
  {
   "cell_type": "markdown",
   "id": "e1dcdbfc",
   "metadata": {},
   "source": [
    "<ul><li>Используется нотация \"Snake Case\". Названия начинаются с маленькой буквы, слова разделяются нижним подчёркиванием.</li>"
   ]
  },
  {
   "cell_type": "code",
   "execution_count": 60,
   "id": "46801356",
   "metadata": {},
   "outputs": [],
   "source": [
    "demonstration_variable = 42"
   ]
  },
  {
   "cell_type": "code",
   "execution_count": 61,
   "id": "c6196bc4",
   "metadata": {},
   "outputs": [
    {
     "data": {
      "text/plain": [
       "42"
      ]
     },
     "execution_count": 61,
     "metadata": {},
     "output_type": "execute_result"
    }
   ],
   "source": [
    "demonstration_variable"
   ]
  },
  {
   "cell_type": "markdown",
   "id": "eb98a75b",
   "metadata": {},
   "source": [
    "<li>Неизвестная переменная &mdash; ошибка</li>"
   ]
  },
  {
   "cell_type": "code",
   "execution_count": 62,
   "id": "34fdf630",
   "metadata": {},
   "outputs": [
    {
     "ename": "NameError",
     "evalue": "name 'unknown_variable' is not defined",
     "output_type": "error",
     "traceback": [
      "\u001b[0;31m---------------------------------------------------------------------------\u001b[0m",
      "\u001b[0;31mNameError\u001b[0m                                 Traceback (most recent call last)",
      "Input \u001b[0;32mIn [62]\u001b[0m, in \u001b[0;36m<cell line: 1>\u001b[0;34m()\u001b[0m\n\u001b[0;32m----> 1\u001b[0m \u001b[43munknown_variable\u001b[49m\n",
      "\u001b[0;31mNameError\u001b[0m: name 'unknown_variable' is not defined"
     ]
    }
   ],
   "source": [
    "unknown_variable"
   ]
  },
  {
   "cell_type": "markdown",
   "id": "df35e698",
   "metadata": {},
   "source": [
    "<li>Динамическая типизация</li>"
   ]
  },
  {
   "cell_type": "code",
   "execution_count": 63,
   "id": "1d0cef5e",
   "metadata": {},
   "outputs": [
    {
     "data": {
      "text/plain": [
       "int"
      ]
     },
     "execution_count": 63,
     "metadata": {},
     "output_type": "execute_result"
    }
   ],
   "source": [
    "type(demonstration_variable)"
   ]
  },
  {
   "cell_type": "code",
   "execution_count": 64,
   "id": "b431b06f",
   "metadata": {},
   "outputs": [],
   "source": [
    "demonstration_variable = '255'"
   ]
  },
  {
   "cell_type": "code",
   "execution_count": 65,
   "id": "5feb5e5d",
   "metadata": {},
   "outputs": [
    {
     "data": {
      "text/plain": [
       "str"
      ]
     },
     "execution_count": 65,
     "metadata": {},
     "output_type": "execute_result"
    }
   ],
   "source": [
    "type(demonstration_variable)"
   ]
  },
  {
   "cell_type": "markdown",
   "id": "b8088fa2",
   "metadata": {},
   "source": [
    "<li>Массивы</li>"
   ]
  },
  {
   "cell_type": "code",
   "execution_count": 66,
   "id": "55acfab0",
   "metadata": {},
   "outputs": [],
   "source": [
    "array = []"
   ]
  },
  {
   "cell_type": "code",
   "execution_count": 67,
   "id": "b745a6fa",
   "metadata": {},
   "outputs": [
    {
     "data": {
      "text/plain": [
       "[]"
      ]
     },
     "execution_count": 67,
     "metadata": {},
     "output_type": "execute_result"
    }
   ],
   "source": [
    "array"
   ]
  },
  {
   "cell_type": "code",
   "execution_count": 68,
   "id": "e00b575c",
   "metadata": {},
   "outputs": [],
   "source": [
    "array = [1, -5, 42]"
   ]
  },
  {
   "cell_type": "code",
   "execution_count": 69,
   "id": "82764cf9",
   "metadata": {},
   "outputs": [
    {
     "data": {
      "text/plain": [
       "[1, -5, 42]"
      ]
     },
     "execution_count": 69,
     "metadata": {},
     "output_type": "execute_result"
    }
   ],
   "source": [
    "array"
   ]
  },
  {
   "cell_type": "markdown",
   "id": "c521efe9",
   "metadata": {},
   "source": [
    "<li>Тип не имеет значения</li>"
   ]
  },
  {
   "cell_type": "code",
   "execution_count": 70,
   "id": "923fa0ec",
   "metadata": {},
   "outputs": [],
   "source": [
    "mixed_array = [None, True, 'word', 5, 4.2]"
   ]
  },
  {
   "cell_type": "code",
   "execution_count": 71,
   "id": "2d483ca8",
   "metadata": {},
   "outputs": [
    {
     "ename": "SyntaxError",
     "evalue": "invalid syntax (2245583863.py, line 1)",
     "output_type": "error",
     "traceback": [
      "\u001b[0;36m  Input \u001b[0;32mIn [71]\u001b[0;36m\u001b[0m\n\u001b[0;31m    mixed_array`\u001b[0m\n\u001b[0m               ^\u001b[0m\n\u001b[0;31mSyntaxError\u001b[0m\u001b[0;31m:\u001b[0m invalid syntax\n"
     ]
    }
   ],
   "source": [
    "mixed_array`"
   ]
  },
  {
   "cell_type": "markdown",
   "id": "e9e2c3e3",
   "metadata": {},
   "source": [
    "<li>Длина массива</li>"
   ]
  },
  {
   "cell_type": "code",
   "execution_count": 72,
   "id": "36cb214a",
   "metadata": {},
   "outputs": [
    {
     "data": {
      "text/plain": [
       "5"
      ]
     },
     "execution_count": 72,
     "metadata": {},
     "output_type": "execute_result"
    }
   ],
   "source": [
    "len(mixed_array)"
   ]
  },
  {
   "cell_type": "markdown",
   "id": "a428cc7e",
   "metadata": {},
   "source": [
    "<li>Элемент по индексу</li>"
   ]
  },
  {
   "cell_type": "code",
   "execution_count": 73,
   "id": "4c9d4dbe",
   "metadata": {},
   "outputs": [
    {
     "data": {
      "text/plain": [
       "5"
      ]
     },
     "execution_count": 73,
     "metadata": {},
     "output_type": "execute_result"
    }
   ],
   "source": [
    "mixed_array[3]"
   ]
  },
  {
   "cell_type": "code",
   "execution_count": 74,
   "id": "0c730f40",
   "metadata": {},
   "outputs": [
    {
     "data": {
      "text/plain": [
       "4.2"
      ]
     },
     "execution_count": 74,
     "metadata": {},
     "output_type": "execute_result"
    }
   ],
   "source": [
    "mixed_array[-1]"
   ]
  },
  {
   "cell_type": "code",
   "execution_count": 75,
   "id": "f81d090b",
   "metadata": {},
   "outputs": [],
   "source": [
    "mixed_array[0] = 65535"
   ]
  },
  {
   "cell_type": "code",
   "execution_count": 76,
   "id": "702b76c2",
   "metadata": {},
   "outputs": [
    {
     "data": {
      "text/plain": [
       "[65535, True, 'word', 5, 4.2]"
      ]
     },
     "execution_count": 76,
     "metadata": {},
     "output_type": "execute_result"
    }
   ],
   "source": [
    "mixed_array"
   ]
  },
  {
   "cell_type": "markdown",
   "id": "7b4a3b79",
   "metadata": {},
   "source": [
    "<li>Выход за границы &mdash; ошибка</li>"
   ]
  },
  {
   "cell_type": "code",
   "execution_count": 77,
   "id": "f6afbe76",
   "metadata": {},
   "outputs": [
    {
     "ename": "IndexError",
     "evalue": "list index out of range",
     "output_type": "error",
     "traceback": [
      "\u001b[0;31m---------------------------------------------------------------------------\u001b[0m",
      "\u001b[0;31mIndexError\u001b[0m                                Traceback (most recent call last)",
      "Input \u001b[0;32mIn [77]\u001b[0m, in \u001b[0;36m<cell line: 1>\u001b[0;34m()\u001b[0m\n\u001b[0;32m----> 1\u001b[0m \u001b[43mmixed_array\u001b[49m\u001b[43m[\u001b[49m\u001b[38;5;241;43m10\u001b[39;49m\u001b[43m]\u001b[49m\n",
      "\u001b[0;31mIndexError\u001b[0m: list index out of range"
     ]
    }
   ],
   "source": [
    "mixed_array[10]"
   ]
  },
  {
   "cell_type": "markdown",
   "id": "feb669a3",
   "metadata": {},
   "source": [
    "<li>Добавление элемента</li>"
   ]
  },
  {
   "cell_type": "code",
   "execution_count": 78,
   "id": "07b5488f",
   "metadata": {},
   "outputs": [
    {
     "data": {
      "text/plain": [
       "[1, -5, 42]"
      ]
     },
     "execution_count": 78,
     "metadata": {},
     "output_type": "execute_result"
    }
   ],
   "source": [
    "array"
   ]
  },
  {
   "cell_type": "code",
   "execution_count": 79,
   "id": "5fb2a5c5",
   "metadata": {},
   "outputs": [],
   "source": [
    "array.append('new element')"
   ]
  },
  {
   "cell_type": "code",
   "execution_count": 80,
   "id": "f7c28878",
   "metadata": {},
   "outputs": [
    {
     "data": {
      "text/plain": [
       "[1, -5, 42, 'new element']"
      ]
     },
     "execution_count": 80,
     "metadata": {},
     "output_type": "execute_result"
    }
   ],
   "source": [
    "array"
   ]
  },
  {
   "cell_type": "markdown",
   "id": "b3af5ddb",
   "metadata": {},
   "source": [
    "<li>Удаление элемента с конца</li>"
   ]
  },
  {
   "cell_type": "code",
   "execution_count": 81,
   "id": "5df6429d",
   "metadata": {},
   "outputs": [
    {
     "data": {
      "text/plain": [
       "'new element'"
      ]
     },
     "execution_count": 81,
     "metadata": {},
     "output_type": "execute_result"
    }
   ],
   "source": [
    "array.pop()"
   ]
  },
  {
   "cell_type": "code",
   "execution_count": 82,
   "id": "58a6c3fd",
   "metadata": {},
   "outputs": [
    {
     "data": {
      "text/plain": [
       "[1, -5, 42]"
      ]
     },
     "execution_count": 82,
     "metadata": {},
     "output_type": "execute_result"
    }
   ],
   "source": [
    "array"
   ]
  },
  {
   "cell_type": "markdown",
   "id": "ac26d43c",
   "metadata": {},
   "source": [
    "<li>Срез массива &mdash; три аргумента: start:end:step. Индекс начала, индекс конца, шаг (каждый первый, каждый второй и т.д.)</li>"
   ]
  },
  {
   "cell_type": "code",
   "execution_count": 83,
   "id": "a95d1b0f",
   "metadata": {},
   "outputs": [
    {
     "data": {
      "text/plain": [
       "[-5, 42]"
      ]
     },
     "execution_count": 83,
     "metadata": {},
     "output_type": "execute_result"
    }
   ],
   "source": [
    "array[1:3]"
   ]
  },
  {
   "cell_type": "code",
   "execution_count": 84,
   "id": "f757ba7a",
   "metadata": {},
   "outputs": [
    {
     "data": {
      "text/plain": [
       "[-5]"
      ]
     },
     "execution_count": 84,
     "metadata": {},
     "output_type": "execute_result"
    }
   ],
   "source": [
    "array[1:-1]"
   ]
  },
  {
   "cell_type": "code",
   "execution_count": 85,
   "id": "b39ffab9",
   "metadata": {},
   "outputs": [
    {
     "data": {
      "text/plain": [
       "[-5, 42]"
      ]
     },
     "execution_count": 85,
     "metadata": {},
     "output_type": "execute_result"
    }
   ],
   "source": [
    "array[1:3:1]"
   ]
  },
  {
   "cell_type": "code",
   "execution_count": 86,
   "id": "d4c5685d",
   "metadata": {},
   "outputs": [
    {
     "data": {
      "text/plain": [
       "[-5, 42]"
      ]
     },
     "execution_count": 86,
     "metadata": {},
     "output_type": "execute_result"
    }
   ],
   "source": [
    "array[1:]"
   ]
  },
  {
   "cell_type": "code",
   "execution_count": 87,
   "id": "3cd1dbb7",
   "metadata": {},
   "outputs": [
    {
     "data": {
      "text/plain": [
       "[1, -5]"
      ]
     },
     "execution_count": 87,
     "metadata": {},
     "output_type": "execute_result"
    }
   ],
   "source": [
    "array[:-1]"
   ]
  },
  {
   "cell_type": "code",
   "execution_count": 88,
   "id": "4a923a68",
   "metadata": {},
   "outputs": [
    {
     "data": {
      "text/plain": [
       "[1, -5, 42]"
      ]
     },
     "execution_count": 88,
     "metadata": {},
     "output_type": "execute_result"
    }
   ],
   "source": [
    "array[::1]"
   ]
  },
  {
   "cell_type": "code",
   "execution_count": 89,
   "id": "1b51fd67",
   "metadata": {},
   "outputs": [
    {
     "data": {
      "text/plain": [
       "[42, -5, 1]"
      ]
     },
     "execution_count": 89,
     "metadata": {},
     "output_type": "execute_result"
    }
   ],
   "source": [
    "array[::-1]"
   ]
  },
  {
   "cell_type": "code",
   "execution_count": 90,
   "id": "88aa6672",
   "metadata": {},
   "outputs": [
    {
     "data": {
      "text/plain": [
       "[1, 42]"
      ]
     },
     "execution_count": 90,
     "metadata": {},
     "output_type": "execute_result"
    }
   ],
   "source": [
    "array[::2]"
   ]
  },
  {
   "cell_type": "code",
   "execution_count": 91,
   "id": "d8df1bfc",
   "metadata": {},
   "outputs": [
    {
     "data": {
      "text/plain": [
       "[-5]"
      ]
     },
     "execution_count": 91,
     "metadata": {},
     "output_type": "execute_result"
    }
   ],
   "source": [
    "array[1::2]"
   ]
  },
  {
   "cell_type": "markdown",
   "id": "260dd3fa",
   "metadata": {},
   "source": [
    "<li>Сложение массивов</li>"
   ]
  },
  {
   "cell_type": "code",
   "execution_count": 92,
   "id": "79a7ad2b",
   "metadata": {},
   "outputs": [
    {
     "data": {
      "text/plain": [
       "[1, -5, 42, 65535, True, 'word', 5, 4.2]"
      ]
     },
     "execution_count": 92,
     "metadata": {},
     "output_type": "execute_result"
    }
   ],
   "source": [
    "array + mixed_array"
   ]
  },
  {
   "cell_type": "markdown",
   "id": "7f9a992c",
   "metadata": {},
   "source": [
    "<li>Конкатенация массивов</li>"
   ]
  },
  {
   "cell_type": "code",
   "execution_count": 93,
   "id": "fbd1e98c",
   "metadata": {},
   "outputs": [
    {
     "data": {
      "text/plain": [
       "[1, -5, 42, 65535, True, 'word', 5, 4.2]"
      ]
     },
     "execution_count": 93,
     "metadata": {},
     "output_type": "execute_result"
    }
   ],
   "source": [
    "array.extend(mixed_array)\n",
    "array"
   ]
  },
  {
   "cell_type": "markdown",
   "id": "87c9b551",
   "metadata": {},
   "source": [
    "<li>Проверка на наличие элемента в массиве</li>"
   ]
  },
  {
   "cell_type": "code",
   "execution_count": 94,
   "id": "77d27bf6",
   "metadata": {},
   "outputs": [
    {
     "data": {
      "text/plain": [
       "True"
      ]
     },
     "execution_count": 94,
     "metadata": {},
     "output_type": "execute_result"
    }
   ],
   "source": [
    "'word' in array"
   ]
  },
  {
   "cell_type": "code",
   "execution_count": 95,
   "id": "71309210",
   "metadata": {},
   "outputs": [
    {
     "data": {
      "text/plain": [
       "False"
      ]
     },
     "execution_count": 95,
     "metadata": {},
     "output_type": "execute_result"
    }
   ],
   "source": [
    "'words' in array"
   ]
  },
  {
   "cell_type": "markdown",
   "id": "4149e2ff",
   "metadata": {},
   "source": [
    "<li>Кортежи &mdash; неизменяемые массивы</li>"
   ]
  },
  {
   "cell_type": "code",
   "execution_count": 97,
   "id": "c965ea3d",
   "metadata": {},
   "outputs": [],
   "source": [
    "unchangeable = (1, 3, 5)"
   ]
  },
  {
   "cell_type": "code",
   "execution_count": 98,
   "id": "615059fb",
   "metadata": {},
   "outputs": [
    {
     "data": {
      "text/plain": [
       "tuple"
      ]
     },
     "execution_count": 98,
     "metadata": {},
     "output_type": "execute_result"
    }
   ],
   "source": [
    "type(unchangeable)"
   ]
  },
  {
   "cell_type": "code",
   "execution_count": 99,
   "id": "593d36ea",
   "metadata": {},
   "outputs": [
    {
     "data": {
      "text/plain": [
       "(1, 3, 5)"
      ]
     },
     "execution_count": 99,
     "metadata": {},
     "output_type": "execute_result"
    }
   ],
   "source": [
    "unchangeable"
   ]
  },
  {
   "cell_type": "code",
   "execution_count": 100,
   "id": "c106d23c",
   "metadata": {},
   "outputs": [
    {
     "ename": "TypeError",
     "evalue": "'tuple' object does not support item assignment",
     "output_type": "error",
     "traceback": [
      "\u001b[0;31m---------------------------------------------------------------------------\u001b[0m",
      "\u001b[0;31mTypeError\u001b[0m                                 Traceback (most recent call last)",
      "Input \u001b[0;32mIn [100]\u001b[0m, in \u001b[0;36m<cell line: 1>\u001b[0;34m()\u001b[0m\n\u001b[0;32m----> 1\u001b[0m \u001b[43munchangeable\u001b[49m\u001b[43m[\u001b[49m\u001b[38;5;241;43m2\u001b[39;49m\u001b[43m]\u001b[49m \u001b[38;5;241m=\u001b[39m \u001b[38;5;241m42\u001b[39m\n",
      "\u001b[0;31mTypeError\u001b[0m: 'tuple' object does not support item assignment"
     ]
    }
   ],
   "source": [
    "unchangeable[2] = 42"
   ]
  },
  {
   "cell_type": "markdown",
   "id": "6332d507",
   "metadata": {},
   "source": [
    "<li>Распаковка кортежей в переменные</li>"
   ]
  },
  {
   "cell_type": "code",
   "execution_count": 102,
   "id": "68c3d9f9",
   "metadata": {},
   "outputs": [],
   "source": [
    "one, three, five = unchangeable"
   ]
  },
  {
   "cell_type": "code",
   "execution_count": 103,
   "id": "13acbac7",
   "metadata": {},
   "outputs": [
    {
     "data": {
      "text/plain": [
       "1"
      ]
     },
     "execution_count": 103,
     "metadata": {},
     "output_type": "execute_result"
    }
   ],
   "source": [
    "one"
   ]
  },
  {
   "cell_type": "code",
   "execution_count": 104,
   "id": "085c0dd1",
   "metadata": {},
   "outputs": [
    {
     "data": {
      "text/plain": [
       "3"
      ]
     },
     "execution_count": 104,
     "metadata": {},
     "output_type": "execute_result"
    }
   ],
   "source": [
    "three"
   ]
  },
  {
   "cell_type": "code",
   "execution_count": 105,
   "id": "306e7f69",
   "metadata": {},
   "outputs": [
    {
     "data": {
      "text/plain": [
       "5"
      ]
     },
     "execution_count": 105,
     "metadata": {},
     "output_type": "execute_result"
    }
   ],
   "source": [
    "five"
   ]
  },
  {
   "cell_type": "markdown",
   "id": "40c50dde",
   "metadata": {},
   "source": [
    "</ul>\n",
    "<h2>Управление потоком исполнения</h2>"
   ]
  },
  {
   "cell_type": "markdown",
   "id": "f5df5c57",
   "metadata": {},
   "source": [
    "<ul><li>Условное выражение</li>"
   ]
  },
  {
   "cell_type": "code",
   "execution_count": 108,
   "id": "6bf94e7f",
   "metadata": {},
   "outputs": [],
   "source": [
    "some_variable = 42"
   ]
  },
  {
   "cell_type": "code",
   "execution_count": 109,
   "id": "520ca51f",
   "metadata": {},
   "outputs": [
    {
     "name": "stdout",
     "output_type": "stream",
     "text": [
      "some_variable больше, чем 10.\n"
     ]
    }
   ],
   "source": [
    "if some_variable > 10:\n",
    "    print(\"some_variable больше, чем 10.\")\n",
    "elif some_variable < 10:    # Необязательно\n",
    "    print(\"some_variable меньше, чем 10.\")\n",
    "else:                  # Также не обязательно\n",
    "    print(\"some_variable в точности 10.\")"
   ]
  },
  {
   "cell_type": "markdown",
   "id": "f1bcb0ca",
   "metadata": {},
   "source": [
    "<li>Отступ важен!</li>"
   ]
  },
  {
   "cell_type": "markdown",
   "id": "6653aafe",
   "metadata": {},
   "source": [
    "<li>Цикл for позволяет проходить по массивам и кортежам</li>"
   ]
  },
  {
   "cell_type": "code",
   "execution_count": 111,
   "id": "9afef90a",
   "metadata": {},
   "outputs": [],
   "source": [
    "array_to_iterate = [42, 'Element', True, 3.22]"
   ]
  },
  {
   "cell_type": "code",
   "execution_count": 112,
   "id": "19ce3db0",
   "metadata": {},
   "outputs": [
    {
     "name": "stdout",
     "output_type": "stream",
     "text": [
      "42\n",
      "Element\n",
      "True\n",
      "3.22\n"
     ]
    }
   ],
   "source": [
    "for item in array_to_iterate:\n",
    "    print(item)"
   ]
  },
  {
   "cell_type": "markdown",
   "id": "b2d7dc64",
   "metadata": {},
   "source": [
    "<li>Ключевое слово range &mdash; \"массив\" целых чисел. Аргументы &mdash; как у среза массива.</li>"
   ]
  },
  {
   "cell_type": "code",
   "execution_count": 113,
   "id": "361f6a58",
   "metadata": {},
   "outputs": [
    {
     "name": "stdout",
     "output_type": "stream",
     "text": [
      "1\n",
      "3\n",
      "5\n",
      "7\n",
      "9\n"
     ]
    }
   ],
   "source": [
    "for number in range(1, 10, 2):\n",
    "    print(number)"
   ]
  },
  {
   "cell_type": "code",
   "execution_count": 115,
   "id": "05f29494",
   "metadata": {},
   "outputs": [
    {
     "name": "stdout",
     "output_type": "stream",
     "text": [
      "42\n",
      "Element\n",
      "True\n",
      "3.22\n"
     ]
    }
   ],
   "source": [
    "for idx in range(len(array_to_iterate)):\n",
    "    print(array_to_iterate[idx])"
   ]
  },
  {
   "cell_type": "code",
   "execution_count": 120,
   "id": "f844de01",
   "metadata": {},
   "outputs": [],
   "source": [
    "for idx in range(len(array_to_iterate)):\n",
    "    if idx % 2 == 1:\n",
    "        array_to_iterate[idx] = array_to_iterate[idx] + array_to_iterate[idx]"
   ]
  },
  {
   "cell_type": "code",
   "execution_count": 121,
   "id": "e2348bb5",
   "metadata": {},
   "outputs": [
    {
     "data": {
      "text/plain": [
       "6.44"
      ]
     },
     "execution_count": 121,
     "metadata": {},
     "output_type": "execute_result"
    }
   ],
   "source": [
    "array_to_iterate[idx]"
   ]
  },
  {
   "cell_type": "code",
   "execution_count": 122,
   "id": "9b42e0da",
   "metadata": {},
   "outputs": [
    {
     "data": {
      "text/plain": [
       "[84, 'ElementElement', 2, 6.44]"
      ]
     },
     "execution_count": 122,
     "metadata": {},
     "output_type": "execute_result"
    }
   ],
   "source": [
    "array_to_iterate"
   ]
  },
  {
   "cell_type": "markdown",
   "id": "d48fb303",
   "metadata": {},
   "source": [
    "<li>Ключевое слово enumerate позволяет получить и элемент, и индекс</li>"
   ]
  },
  {
   "cell_type": "code",
   "execution_count": 123,
   "id": "519c89a6",
   "metadata": {},
   "outputs": [
    {
     "name": "stdout",
     "output_type": "stream",
     "text": [
      "0 84\n",
      "1 ElementElement\n",
      "2 2\n",
      "3 6.44\n"
     ]
    }
   ],
   "source": [
    "for idx, value in enumerate(array_to_iterate):\n",
    "    print(idx, value)"
   ]
  },
  {
   "cell_type": "code",
   "execution_count": null,
   "id": "0ebccd80",
   "metadata": {},
   "outputs": [],
   "source": []
  }
 ],
 "metadata": {
  "kernelspec": {
   "display_name": "Python 3 (ipykernel)",
   "language": "python",
   "name": "python3"
  },
  "language_info": {
   "codemirror_mode": {
    "name": "ipython",
    "version": 3
   },
   "file_extension": ".py",
   "mimetype": "text/x-python",
   "name": "python",
   "nbconvert_exporter": "python",
   "pygments_lexer": "ipython3",
   "version": "3.10.5"
  }
 },
 "nbformat": 4,
 "nbformat_minor": 5
}
