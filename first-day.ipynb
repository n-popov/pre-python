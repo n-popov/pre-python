{
 "cells": [
  {
   "cell_type": "code",
   "execution_count": 1,
   "id": "66c913c4",
   "metadata": {},
   "outputs": [
    {
     "name": "stdout",
     "output_type": "stream",
     "text": [
      "Hello, DASR\n"
     ]
    }
   ],
   "source": [
    "print('Hello, DASR')"
   ]
  },
  {
   "cell_type": "code",
   "execution_count": 2,
   "id": "2ccb7d77",
   "metadata": {},
   "outputs": [
    {
     "name": "stdout",
     "output_type": "stream",
     "text": [
      "Hello world!\n"
     ]
    }
   ],
   "source": [
    "import __hello__"
   ]
  },
  {
   "cell_type": "code",
   "execution_count": 3,
   "id": "00670e70",
   "metadata": {},
   "outputs": [
    {
     "data": {
      "text/plain": [
       "42"
      ]
     },
     "execution_count": 3,
     "metadata": {},
     "output_type": "execute_result"
    }
   ],
   "source": [
    "42"
   ]
  },
  {
   "cell_type": "code",
   "execution_count": 4,
   "id": "8cae0ced",
   "metadata": {},
   "outputs": [
    {
     "data": {
      "text/plain": [
       "int"
      ]
     },
     "execution_count": 4,
     "metadata": {},
     "output_type": "execute_result"
    }
   ],
   "source": [
    "type(42)"
   ]
  },
  {
   "cell_type": "code",
   "execution_count": 5,
   "id": "51a87233",
   "metadata": {},
   "outputs": [
    {
     "data": {
      "text/plain": [
       "3.14"
      ]
     },
     "execution_count": 5,
     "metadata": {},
     "output_type": "execute_result"
    }
   ],
   "source": [
    "3.14"
   ]
  },
  {
   "cell_type": "code",
   "execution_count": 6,
   "id": "09a0ef87",
   "metadata": {},
   "outputs": [
    {
     "data": {
      "text/plain": [
       "(3, 14)"
      ]
     },
     "execution_count": 6,
     "metadata": {},
     "output_type": "execute_result"
    }
   ],
   "source": [
    "3,14"
   ]
  },
  {
   "cell_type": "code",
   "execution_count": 7,
   "id": "c4aea032",
   "metadata": {},
   "outputs": [
    {
     "data": {
      "text/plain": [
       "float"
      ]
     },
     "execution_count": 7,
     "metadata": {},
     "output_type": "execute_result"
    }
   ],
   "source": [
    "type(3.14)"
   ]
  },
  {
   "cell_type": "code",
   "execution_count": 8,
   "id": "7ebe3f13",
   "metadata": {},
   "outputs": [
    {
     "data": {
      "text/plain": [
       "tuple"
      ]
     },
     "execution_count": 8,
     "metadata": {},
     "output_type": "execute_result"
    }
   ],
   "source": [
    "type((3, 14))"
   ]
  },
  {
   "cell_type": "code",
   "execution_count": 9,
   "id": "dd020739",
   "metadata": {},
   "outputs": [
    {
     "data": {
      "text/plain": [
       "84"
      ]
     },
     "execution_count": 9,
     "metadata": {},
     "output_type": "execute_result"
    }
   ],
   "source": [
    "42 + 42"
   ]
  },
  {
   "cell_type": "code",
   "execution_count": 10,
   "id": "7adbb10c",
   "metadata": {},
   "outputs": [
    {
     "data": {
      "text/plain": [
       "35"
      ]
     },
     "execution_count": 10,
     "metadata": {},
     "output_type": "execute_result"
    }
   ],
   "source": [
    "42 - 7\n"
   ]
  },
  {
   "cell_type": "code",
   "execution_count": 11,
   "id": "55e5f3e8",
   "metadata": {},
   "outputs": [
    {
     "data": {
      "text/plain": [
       "8"
      ]
     },
     "execution_count": 11,
     "metadata": {},
     "output_type": "execute_result"
    }
   ],
   "source": [
    "4 * 2"
   ]
  },
  {
   "cell_type": "code",
   "execution_count": 12,
   "id": "0fe463b3",
   "metadata": {},
   "outputs": [
    {
     "data": {
      "text/plain": [
       "6.0"
      ]
     },
     "execution_count": 12,
     "metadata": {},
     "output_type": "execute_result"
    }
   ],
   "source": [
    "42 / 7"
   ]
  },
  {
   "cell_type": "code",
   "execution_count": 13,
   "id": "9b6462e3",
   "metadata": {},
   "outputs": [
    {
     "data": {
      "text/plain": [
       "4.8"
      ]
     },
     "execution_count": 13,
     "metadata": {},
     "output_type": "execute_result"
    }
   ],
   "source": [
    "24 / 5"
   ]
  },
  {
   "cell_type": "code",
   "execution_count": 14,
   "id": "687ff483",
   "metadata": {},
   "outputs": [
    {
     "data": {
      "text/plain": [
       "6"
      ]
     },
     "execution_count": 14,
     "metadata": {},
     "output_type": "execute_result"
    }
   ],
   "source": [
    "42 // 7"
   ]
  },
  {
   "cell_type": "code",
   "execution_count": 15,
   "id": "a4af7ac7",
   "metadata": {},
   "outputs": [
    {
     "data": {
      "text/plain": [
       "4"
      ]
     },
     "execution_count": 15,
     "metadata": {},
     "output_type": "execute_result"
    }
   ],
   "source": [
    "24 // 5"
   ]
  },
  {
   "cell_type": "code",
   "execution_count": 16,
   "id": "e1576917",
   "metadata": {},
   "outputs": [
    {
     "data": {
      "text/plain": [
       "5"
      ]
     },
     "execution_count": 16,
     "metadata": {},
     "output_type": "execute_result"
    }
   ],
   "source": [
    "(24 + 5 - 1) // 5"
   ]
  },
  {
   "cell_type": "code",
   "execution_count": 17,
   "id": "d9e14e12",
   "metadata": {},
   "outputs": [
    {
     "data": {
      "text/plain": [
       "5"
      ]
     },
     "execution_count": 17,
     "metadata": {},
     "output_type": "execute_result"
    }
   ],
   "source": [
    "(25 + 5 - 1) // 5"
   ]
  },
  {
   "cell_type": "code",
   "execution_count": 18,
   "id": "a906fc8d",
   "metadata": {},
   "outputs": [
    {
     "data": {
      "text/plain": [
       "4"
      ]
     },
     "execution_count": 18,
     "metadata": {},
     "output_type": "execute_result"
    }
   ],
   "source": [
    "24 % 5"
   ]
  },
  {
   "cell_type": "code",
   "execution_count": 20,
   "id": "c8e741c0",
   "metadata": {},
   "outputs": [
    {
     "data": {
      "text/plain": [
       "125"
      ]
     },
     "execution_count": 20,
     "metadata": {},
     "output_type": "execute_result"
    }
   ],
   "source": [
    "5 ** 3"
   ]
  },
  {
   "cell_type": "code",
   "execution_count": 21,
   "id": "9f8212c5",
   "metadata": {},
   "outputs": [
    {
     "data": {
      "text/plain": [
       "624.9999999999998"
      ]
     },
     "execution_count": 21,
     "metadata": {},
     "output_type": "execute_result"
    }
   ],
   "source": [
    "125 ** (4/3)"
   ]
  },
  {
   "cell_type": "code",
   "execution_count": 22,
   "id": "163fc8cb",
   "metadata": {},
   "outputs": [
    {
     "data": {
      "text/plain": [
       "25.0"
      ]
     },
     "execution_count": 22,
     "metadata": {},
     "output_type": "execute_result"
    }
   ],
   "source": [
    "625 ** 0.5"
   ]
  },
  {
   "cell_type": "code",
   "execution_count": 27,
   "id": "d64ca9c0",
   "metadata": {},
   "outputs": [
    {
     "data": {
      "text/plain": [
       "'wordanother word'"
      ]
     },
     "execution_count": 27,
     "metadata": {},
     "output_type": "execute_result"
    }
   ],
   "source": [
    "\"word\" 'another word'"
   ]
  },
  {
   "cell_type": "code",
   "execution_count": 28,
   "id": "400c95ea",
   "metadata": {},
   "outputs": [
    {
     "data": {
      "text/plain": [
       "'wordword'"
      ]
     },
     "execution_count": 28,
     "metadata": {},
     "output_type": "execute_result"
    }
   ],
   "source": [
    "'word' + 'word'"
   ]
  },
  {
   "cell_type": "code",
   "execution_count": 29,
   "id": "1a3fbc56",
   "metadata": {},
   "outputs": [
    {
     "data": {
      "text/plain": [
       "'wordwordword'"
      ]
     },
     "execution_count": 29,
     "metadata": {},
     "output_type": "execute_result"
    }
   ],
   "source": [
    "'word' * 3"
   ]
  },
  {
   "cell_type": "code",
   "execution_count": 31,
   "id": "bacb73c6",
   "metadata": {},
   "outputs": [],
   "source": [
    "important_number = 42"
   ]
  },
  {
   "cell_type": "code",
   "execution_count": 32,
   "id": "bce35273",
   "metadata": {},
   "outputs": [
    {
     "name": "stdout",
     "output_type": "stream",
     "text": [
      "42\n"
     ]
    }
   ],
   "source": [
    "print(important_number)"
   ]
  },
  {
   "cell_type": "code",
   "execution_count": 33,
   "id": "2d6cde01",
   "metadata": {},
   "outputs": [
    {
     "data": {
      "text/plain": [
       "6.0"
      ]
     },
     "execution_count": 33,
     "metadata": {},
     "output_type": "execute_result"
    }
   ],
   "source": [
    "important_number / 7"
   ]
  },
  {
   "cell_type": "code",
   "execution_count": 36,
   "id": "7db488c8",
   "metadata": {},
   "outputs": [
    {
     "data": {
      "text/plain": [
       "3.1415927"
      ]
     },
     "execution_count": 36,
     "metadata": {},
     "output_type": "execute_result"
    }
   ],
   "source": [
    "pi = 3.1415927\n",
    "pi"
   ]
  },
  {
   "cell_type": "code",
   "execution_count": 37,
   "id": "e992a087",
   "metadata": {},
   "outputs": [],
   "source": [
    "word = 'some word'"
   ]
  },
  {
   "cell_type": "code",
   "execution_count": 38,
   "id": "337a1df0",
   "metadata": {},
   "outputs": [
    {
     "data": {
      "text/plain": [
       "'some word'"
      ]
     },
     "execution_count": 38,
     "metadata": {},
     "output_type": "execute_result"
    }
   ],
   "source": [
    "word"
   ]
  },
  {
   "cell_type": "code",
   "execution_count": 39,
   "id": "27b3af21",
   "metadata": {},
   "outputs": [
    {
     "data": {
      "text/plain": [
       "str"
      ]
     },
     "execution_count": 39,
     "metadata": {},
     "output_type": "execute_result"
    }
   ],
   "source": [
    "type(word)"
   ]
  },
  {
   "cell_type": "code",
   "execution_count": 40,
   "id": "cdd727c9",
   "metadata": {},
   "outputs": [
    {
     "data": {
      "text/plain": [
       "float"
      ]
     },
     "execution_count": 40,
     "metadata": {},
     "output_type": "execute_result"
    }
   ],
   "source": [
    "type(pi)"
   ]
  },
  {
   "cell_type": "code",
   "execution_count": 41,
   "id": "6f6f813a",
   "metadata": {},
   "outputs": [],
   "source": [
    "word = 115"
   ]
  },
  {
   "cell_type": "code",
   "execution_count": 42,
   "id": "952d5939",
   "metadata": {},
   "outputs": [
    {
     "data": {
      "text/plain": [
       "int"
      ]
     },
     "execution_count": 42,
     "metadata": {},
     "output_type": "execute_result"
    }
   ],
   "source": [
    "type(word)"
   ]
  },
  {
   "cell_type": "code",
   "execution_count": 43,
   "id": "49ece5a6",
   "metadata": {},
   "outputs": [
    {
     "name": "stdout",
     "output_type": "stream",
     "text": [
      "42\n",
      "42\n",
      "42\n"
     ]
    }
   ],
   "source": [
    "inputted = input()\n",
    "print(inputted)\n",
    "inputted = int(inputted)\n",
    "print(inputted)"
   ]
  },
  {
   "cell_type": "code",
   "execution_count": 44,
   "id": "76655c1f",
   "metadata": {},
   "outputs": [
    {
     "data": {
      "text/plain": [
       "True"
      ]
     },
     "execution_count": 44,
     "metadata": {},
     "output_type": "execute_result"
    }
   ],
   "source": [
    "True"
   ]
  },
  {
   "cell_type": "code",
   "execution_count": 45,
   "id": "de70a8d3",
   "metadata": {},
   "outputs": [
    {
     "data": {
      "text/plain": [
       "False"
      ]
     },
     "execution_count": 45,
     "metadata": {},
     "output_type": "execute_result"
    }
   ],
   "source": [
    "False"
   ]
  },
  {
   "cell_type": "code",
   "execution_count": 46,
   "id": "5c8c8432",
   "metadata": {},
   "outputs": [
    {
     "data": {
      "text/plain": [
       "bool"
      ]
     },
     "execution_count": 46,
     "metadata": {},
     "output_type": "execute_result"
    }
   ],
   "source": [
    "type(True)"
   ]
  },
  {
   "cell_type": "code",
   "execution_count": 47,
   "id": "d96c5ff2",
   "metadata": {},
   "outputs": [
    {
     "data": {
      "text/plain": [
       "True"
      ]
     },
     "execution_count": 47,
     "metadata": {},
     "output_type": "execute_result"
    }
   ],
   "source": [
    "42 == 42"
   ]
  },
  {
   "cell_type": "code",
   "execution_count": 48,
   "id": "5b6a3bc0",
   "metadata": {},
   "outputs": [
    {
     "data": {
      "text/plain": [
       "True"
      ]
     },
     "execution_count": 48,
     "metadata": {},
     "output_type": "execute_result"
    }
   ],
   "source": [
    "2 < 7"
   ]
  },
  {
   "cell_type": "code",
   "execution_count": 49,
   "id": "bbeeed7a",
   "metadata": {},
   "outputs": [
    {
     "data": {
      "text/plain": [
       "False"
      ]
     },
     "execution_count": 49,
     "metadata": {},
     "output_type": "execute_result"
    }
   ],
   "source": [
    "3 > 5"
   ]
  },
  {
   "cell_type": "code",
   "execution_count": 50,
   "id": "c3c65684",
   "metadata": {},
   "outputs": [
    {
     "data": {
      "text/plain": [
       "False"
      ]
     },
     "execution_count": 50,
     "metadata": {},
     "output_type": "execute_result"
    }
   ],
   "source": [
    "125 ** (4/3) == 625"
   ]
  },
  {
   "cell_type": "code",
   "execution_count": 51,
   "id": "c215e1d8",
   "metadata": {},
   "outputs": [
    {
     "data": {
      "text/plain": [
       "True"
      ]
     },
     "execution_count": 51,
     "metadata": {},
     "output_type": "execute_result"
    }
   ],
   "source": [
    "'abc' < 'def'"
   ]
  },
  {
   "cell_type": "code",
   "execution_count": 52,
   "id": "19b78d28",
   "metadata": {},
   "outputs": [
    {
     "data": {
      "text/plain": [
       "False"
      ]
     },
     "execution_count": 52,
     "metadata": {},
     "output_type": "execute_result"
    }
   ],
   "source": [
    "'abc' > 'abcd'"
   ]
  },
  {
   "cell_type": "code",
   "execution_count": 54,
   "id": "0ed7fb0d",
   "metadata": {},
   "outputs": [
    {
     "data": {
      "text/plain": [
       "True"
      ]
     },
     "execution_count": 54,
     "metadata": {},
     "output_type": "execute_result"
    }
   ],
   "source": [
    "42 <= 42"
   ]
  },
  {
   "cell_type": "code",
   "execution_count": 55,
   "id": "22eb4106",
   "metadata": {},
   "outputs": [
    {
     "data": {
      "text/plain": [
       "True"
      ]
     },
     "execution_count": 55,
     "metadata": {},
     "output_type": "execute_result"
    }
   ],
   "source": [
    "42 >= 42"
   ]
  },
  {
   "cell_type": "code",
   "execution_count": 56,
   "id": "a08d65f9",
   "metadata": {},
   "outputs": [
    {
     "data": {
      "text/plain": [
       "True"
      ]
     },
     "execution_count": 56,
     "metadata": {},
     "output_type": "execute_result"
    }
   ],
   "source": [
    "2 < 5 < 42"
   ]
  },
  {
   "cell_type": "code",
   "execution_count": 57,
   "id": "6593b21c",
   "metadata": {},
   "outputs": [
    {
     "data": {
      "text/plain": [
       "False"
      ]
     },
     "execution_count": 57,
     "metadata": {},
     "output_type": "execute_result"
    }
   ],
   "source": [
    "2 > 5 < 42"
   ]
  },
  {
   "cell_type": "code",
   "execution_count": 58,
   "id": "b0e9367c",
   "metadata": {},
   "outputs": [
    {
     "data": {
      "text/plain": [
       "True"
      ]
     },
     "execution_count": 58,
     "metadata": {},
     "output_type": "execute_result"
    }
   ],
   "source": [
    "True and True"
   ]
  },
  {
   "cell_type": "code",
   "execution_count": 59,
   "id": "250a9884",
   "metadata": {},
   "outputs": [
    {
     "data": {
      "text/plain": [
       "False"
      ]
     },
     "execution_count": 59,
     "metadata": {},
     "output_type": "execute_result"
    }
   ],
   "source": [
    "True and False"
   ]
  },
  {
   "cell_type": "code",
   "execution_count": 60,
   "id": "428c2ec1",
   "metadata": {},
   "outputs": [
    {
     "data": {
      "text/plain": [
       "False"
      ]
     },
     "execution_count": 60,
     "metadata": {},
     "output_type": "execute_result"
    }
   ],
   "source": [
    "False and False"
   ]
  },
  {
   "cell_type": "code",
   "execution_count": 61,
   "id": "3eb282ae",
   "metadata": {},
   "outputs": [
    {
     "data": {
      "text/plain": [
       "True"
      ]
     },
     "execution_count": 61,
     "metadata": {},
     "output_type": "execute_result"
    }
   ],
   "source": [
    "True or True\n"
   ]
  },
  {
   "cell_type": "code",
   "execution_count": 62,
   "id": "5758d286",
   "metadata": {},
   "outputs": [
    {
     "data": {
      "text/plain": [
       "True"
      ]
     },
     "execution_count": 62,
     "metadata": {},
     "output_type": "execute_result"
    }
   ],
   "source": [
    "True or False"
   ]
  },
  {
   "cell_type": "code",
   "execution_count": 63,
   "id": "d8b5adfc",
   "metadata": {},
   "outputs": [
    {
     "data": {
      "text/plain": [
       "False"
      ]
     },
     "execution_count": 63,
     "metadata": {},
     "output_type": "execute_result"
    }
   ],
   "source": [
    "False or False"
   ]
  },
  {
   "cell_type": "code",
   "execution_count": 65,
   "id": "b780bf14",
   "metadata": {},
   "outputs": [],
   "source": [
    "is_leap_year = True\n",
    "answer = \"YES\" if is_leap_year == True else \"No\""
   ]
  },
  {
   "cell_type": "code",
   "execution_count": 66,
   "id": "c587b3d5",
   "metadata": {},
   "outputs": [
    {
     "name": "stdout",
     "output_type": "stream",
     "text": [
      "YES\n"
     ]
    }
   ],
   "source": [
    "print(answer)"
   ]
  },
  {
   "cell_type": "code",
   "execution_count": 69,
   "id": "9935ad41",
   "metadata": {},
   "outputs": [
    {
     "name": "stdout",
     "output_type": "stream",
     "text": [
      "We are inside if\n",
      "Condition is True\n",
      "Condition is True\n"
     ]
    }
   ],
   "source": [
    "condition = True\n",
    "if condition:\n",
    "    print('We are inside if')\n",
    "    print('Condition is', True)\n",
    "    \n",
    "if condition:\n",
    "    print('Condition is', True)\n",
    "else:\n",
    "    print('Condition is', False)"
   ]
  },
  {
   "cell_type": "code",
   "execution_count": 70,
   "id": "e742622e",
   "metadata": {},
   "outputs": [
    {
     "name": "stdout",
     "output_type": "stream",
     "text": [
      "True aboba 42 3.22\n"
     ]
    }
   ],
   "source": [
    "print(True, 'aboba', 42, 3.22)"
   ]
  },
  {
   "cell_type": "code",
   "execution_count": 77,
   "id": "0dc16289",
   "metadata": {},
   "outputs": [
    {
     "name": "stdout",
     "output_type": "stream",
     "text": [
      "33\n",
      "Less!\n"
     ]
    }
   ],
   "source": [
    "some_number = int(input())\n",
    "if some_number < 42:\n",
    "    print('Less!')\n",
    "elif some_number == 42:\n",
    "    print('Equal')\n",
    "elif some_number > 42:\n",
    "    print('Greater!')\n",
    "else:\n",
    "    print('We don\\'t know what\\'s going on')"
   ]
  },
  {
   "cell_type": "code",
   "execution_count": 78,
   "id": "5d4da613",
   "metadata": {},
   "outputs": [],
   "source": [
    "import time"
   ]
  },
  {
   "cell_type": "code",
   "execution_count": 79,
   "id": "f0e53bc6",
   "metadata": {},
   "outputs": [
    {
     "data": {
      "text/plain": [
       "1661510093.8989656"
      ]
     },
     "execution_count": 79,
     "metadata": {},
     "output_type": "execute_result"
    }
   ],
   "source": [
    "time.time()"
   ]
  },
  {
   "cell_type": "code",
   "execution_count": 81,
   "id": "15ac335d",
   "metadata": {},
   "outputs": [
    {
     "name": "stdout",
     "output_type": "stream",
     "text": [
      "0\n"
     ]
    }
   ],
   "source": [
    "number = int(input())\n",
    "\n",
    "while number != 0:\n",
    "    print('You wrote', number)\n",
    "    number = int(input())"
   ]
  },
  {
   "cell_type": "code",
   "execution_count": 89,
   "id": "9e5311f7",
   "metadata": {},
   "outputs": [],
   "source": [
    "array = []"
   ]
  },
  {
   "cell_type": "code",
   "execution_count": 90,
   "id": "00a9fde1",
   "metadata": {},
   "outputs": [
    {
     "data": {
      "text/plain": [
       "[]"
      ]
     },
     "execution_count": 90,
     "metadata": {},
     "output_type": "execute_result"
    }
   ],
   "source": [
    "array"
   ]
  },
  {
   "cell_type": "code",
   "execution_count": 91,
   "id": "d7708e37",
   "metadata": {},
   "outputs": [
    {
     "data": {
      "text/plain": [
       "list"
      ]
     },
     "execution_count": 91,
     "metadata": {},
     "output_type": "execute_result"
    }
   ],
   "source": [
    "type(array)"
   ]
  },
  {
   "cell_type": "code",
   "execution_count": 92,
   "id": "d41a71b0",
   "metadata": {},
   "outputs": [],
   "source": [
    "array.append(5)"
   ]
  },
  {
   "cell_type": "code",
   "execution_count": 93,
   "id": "64d177af",
   "metadata": {},
   "outputs": [
    {
     "data": {
      "text/plain": [
       "[5]"
      ]
     },
     "execution_count": 93,
     "metadata": {},
     "output_type": "execute_result"
    }
   ],
   "source": [
    "array"
   ]
  },
  {
   "cell_type": "code",
   "execution_count": 94,
   "id": "c4c06735",
   "metadata": {},
   "outputs": [],
   "source": [
    "array.append(42)"
   ]
  },
  {
   "cell_type": "code",
   "execution_count": 95,
   "id": "03784395",
   "metadata": {},
   "outputs": [
    {
     "data": {
      "text/plain": [
       "[5, 42]"
      ]
     },
     "execution_count": 95,
     "metadata": {},
     "output_type": "execute_result"
    }
   ],
   "source": [
    "array"
   ]
  },
  {
   "cell_type": "code",
   "execution_count": 96,
   "id": "283c8fce",
   "metadata": {},
   "outputs": [],
   "source": [
    "array.append('word')"
   ]
  },
  {
   "cell_type": "code",
   "execution_count": 97,
   "id": "ca7c8b0b",
   "metadata": {},
   "outputs": [
    {
     "data": {
      "text/plain": [
       "[5, 42, 'word']"
      ]
     },
     "execution_count": 97,
     "metadata": {},
     "output_type": "execute_result"
    }
   ],
   "source": [
    "array"
   ]
  },
  {
   "cell_type": "code",
   "execution_count": 98,
   "id": "0e98205c",
   "metadata": {},
   "outputs": [
    {
     "data": {
      "text/plain": [
       "42"
      ]
     },
     "execution_count": 98,
     "metadata": {},
     "output_type": "execute_result"
    }
   ],
   "source": [
    "array[1]"
   ]
  },
  {
   "cell_type": "code",
   "execution_count": 99,
   "id": "4160dd2b",
   "metadata": {},
   "outputs": [
    {
     "ename": "IndexError",
     "evalue": "list index out of range",
     "output_type": "error",
     "traceback": [
      "\u001b[0;31m---------------------------------------------------------------------------\u001b[0m",
      "\u001b[0;31mIndexError\u001b[0m                                Traceback (most recent call last)",
      "Input \u001b[0;32mIn [99]\u001b[0m, in \u001b[0;36m<cell line: 1>\u001b[0;34m()\u001b[0m\n\u001b[0;32m----> 1\u001b[0m \u001b[43marray\u001b[49m\u001b[43m[\u001b[49m\u001b[38;5;241;43m3\u001b[39;49m\u001b[43m]\u001b[49m\n",
      "\u001b[0;31mIndexError\u001b[0m: list index out of range"
     ]
    }
   ],
   "source": [
    "array[3]"
   ]
  },
  {
   "cell_type": "code",
   "execution_count": 100,
   "id": "483da8c6",
   "metadata": {},
   "outputs": [],
   "source": [
    "other_array = [3, '3', False, [42, 'something']]"
   ]
  },
  {
   "cell_type": "code",
   "execution_count": 101,
   "id": "3522346e",
   "metadata": {},
   "outputs": [
    {
     "data": {
      "text/plain": [
       "'something'"
      ]
     },
     "execution_count": 101,
     "metadata": {},
     "output_type": "execute_result"
    }
   ],
   "source": [
    "other_array[3][1]"
   ]
  },
  {
   "cell_type": "code",
   "execution_count": 102,
   "id": "7afcdc16",
   "metadata": {},
   "outputs": [
    {
     "data": {
      "text/plain": [
       "'something'"
      ]
     },
     "execution_count": 102,
     "metadata": {},
     "output_type": "execute_result"
    }
   ],
   "source": [
    "other_array[-1][-1]"
   ]
  },
  {
   "cell_type": "code",
   "execution_count": 103,
   "id": "ac4e007a",
   "metadata": {},
   "outputs": [
    {
     "data": {
      "text/plain": [
       "False"
      ]
     },
     "execution_count": 103,
     "metadata": {},
     "output_type": "execute_result"
    }
   ],
   "source": [
    "other_array[-2]"
   ]
  },
  {
   "cell_type": "code",
   "execution_count": 104,
   "id": "ffc7700e",
   "metadata": {},
   "outputs": [
    {
     "data": {
      "text/plain": [
       "3"
      ]
     },
     "execution_count": 104,
     "metadata": {},
     "output_type": "execute_result"
    }
   ],
   "source": [
    "len(array)"
   ]
  },
  {
   "cell_type": "code",
   "execution_count": 105,
   "id": "faea5c2a",
   "metadata": {},
   "outputs": [
    {
     "name": "stdout",
     "output_type": "stream",
     "text": [
      "5\n",
      "42\n",
      "word\n"
     ]
    }
   ],
   "source": [
    "for element in array:\n",
    "    print(element)"
   ]
  }
 ],
 "metadata": {
  "kernelspec": {
   "display_name": "Python 3 (ipykernel)",
   "language": "python",
   "name": "python3"
  },
  "language_info": {
   "codemirror_mode": {
    "name": "ipython",
    "version": 3
   },
   "file_extension": ".py",
   "mimetype": "text/x-python",
   "name": "python",
   "nbconvert_exporter": "python",
   "pygments_lexer": "ipython3",
   "version": "3.10.5"
  }
 },
 "nbformat": 4,
 "nbformat_minor": 5
}
